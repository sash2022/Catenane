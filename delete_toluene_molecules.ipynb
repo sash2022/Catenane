{
 "cells": [
  {
   "cell_type": "code",
   "execution_count": null,
   "metadata": {
    "executionInfo": {
     "elapsed": 334,
     "status": "ok",
     "timestamp": 1610627217651,
     "user": {
      "displayName": "Saeed Akbari Shandiz",
      "photoUrl": "https://lh3.googleusercontent.com/a-/AOh14Gj_ltTfyzFcj-EidKK-RDh3G-RSeGnX-lq1mmA5=s64",
      "userId": "18254360833802486461"
     },
     "user_tz": 300
    },
    "id": "-2FGC2dWQ0a-"
   },
   "outputs": [],
   "source": [
    "import math\n",
    "import collections\n",
    "import sys\n",
    "import numpy as np\n",
    "import pandas as pd\n",
    "import matplotlib.pyplot as pp\n",
    "\n",
    "%matplotlib inline"
   ]
  },
  {
   "cell_type": "code",
   "execution_count": null,
   "metadata": {
    "colab": {
     "base_uri": "https://localhost:8080/"
    },
    "executionInfo": {
     "elapsed": 81395,
     "status": "ok",
     "timestamp": 1610627300957,
     "user": {
      "displayName": "Saeed Akbari Shandiz",
      "photoUrl": "https://lh3.googleusercontent.com/a-/AOh14Gj_ltTfyzFcj-EidKK-RDh3G-RSeGnX-lq1mmA5=s64",
      "userId": "18254360833802486461"
     },
     "user_tz": 300
    },
    "id": "hjpROYi1xnYo",
    "outputId": "1a4642f6-5603-4c7f-d278-ac897ffe543b"
   },
   "outputs": [],
   "source": [
    "from google.colab import drive#to open the google drive in colab\n",
    "drive.mount('/content/drive')"
   ]
  },
  {
   "cell_type": "code",
   "execution_count": null,
   "metadata": {
    "executionInfo": {
     "elapsed": 418,
     "status": "ok",
     "timestamp": 1610630436177,
     "user": {
      "displayName": "Saeed Akbari Shandiz",
      "photoUrl": "https://lh3.googleusercontent.com/a-/AOh14Gj_ltTfyzFcj-EidKK-RDh3G-RSeGnX-lq1mmA5=s64",
      "userId": "18254360833802486461"
     },
     "user_tz": 300
    },
    "id": "R_Qljpf-QwII"
   },
   "outputs": [],
   "source": [
    "#deletedMolecule=1881 # toluene molecule that we want to be deleted\n",
    "deletedMolecule=1858\n",
    "#deletedMolecule=\n",
    "#deletedMolecule=\n",
    "#deletedMolecule=\n",
    "\n"
   ]
  },
  {
   "cell_type": "code",
   "execution_count": null,
   "metadata": {
    "executionInfo": {
     "elapsed": 1105,
     "status": "ok",
     "timestamp": 1610630547494,
     "user": {
      "displayName": "Saeed Akbari Shandiz",
      "photoUrl": "https://lh3.googleusercontent.com/a-/AOh14Gj_ltTfyzFcj-EidKK-RDh3G-RSeGnX-lq1mmA5=s64",
      "userId": "18254360833802486461"
     },
     "user_tz": 300
    },
    "id": "atQhrxOKxqRH"
   },
   "outputs": [],
   "source": [
    "lines=[]\n",
    "with open('/content/drive/My Drive/Case/CatenaneStructure/peo/peoRingTol/peoRingTolDelTol1.dat') as fp:   # to read lines if atomlist after \"Atoms\"\n",
    "        for line in fp:\n",
    "            if 'Atoms' in line:                                         \n",
    "                for line in fp: # now you are at the lines you want\n",
    "                    if 'Bonds' in line: \n",
    "                     break \n",
    "                   \n",
    "                    line=line.rstrip()# to remove any white spaces at the end of the string                  \n",
    "                    #\n",
    "                    lines.append(line)# add the string in to the list\n",
    "                    #lines= line.split(\"space\")# for line in a pandas data frame. here it can not read our lines separetely. it reads all lines as a line so does not split it into different indexs"
   ]
  },
  {
   "cell_type": "code",
   "execution_count": null,
   "metadata": {
    "executionInfo": {
     "elapsed": 583,
     "status": "ok",
     "timestamp": 1610630550836,
     "user": {
      "displayName": "Saeed Akbari Shandiz",
      "photoUrl": "https://lh3.googleusercontent.com/a-/AOh14Gj_ltTfyzFcj-EidKK-RDh3G-RSeGnX-lq1mmA5=s64",
      "userId": "18254360833802486461"
     },
     "user_tz": 300
    },
    "id": "hv6eC10-xsnn"
   },
   "outputs": [],
   "source": [
    "#remove empty lines from the list\n",
    "while(\"\" in lines) : \n",
    "    lines.remove(\"\") "
   ]
  },
  {
   "cell_type": "code",
   "execution_count": null,
   "metadata": {
    "colab": {
     "base_uri": "https://localhost:8080/",
     "height": 424
    },
    "executionInfo": {
     "elapsed": 595,
     "status": "ok",
     "timestamp": 1610630552638,
     "user": {
      "displayName": "Saeed Akbari Shandiz",
      "photoUrl": "https://lh3.googleusercontent.com/a-/AOh14Gj_ltTfyzFcj-EidKK-RDh3G-RSeGnX-lq1mmA5=s64",
      "userId": "18254360833802486461"
     },
     "user_tz": 300
    },
    "id": "hyhe5kGBxuwu",
    "outputId": "c7dd3a26-8b24-4be7-f92d-4ae6f8dc6371"
   },
   "outputs": [],
   "source": [
    "df_atom2=pd.DataFrame(lines, columns=['atomID']) # to make a data frame of pandas from the list and put atomID name on the column\n",
    "df_atom2[['atomID','molID','type','charge','x','y','z','mx','my','mz']] = df_atom2.atomID.str.split(expand=True,) # to split one column to multiple columns and allocate name for each column\n",
    "df_atom2"
   ]
  },
  {
   "cell_type": "markdown",
   "metadata": {
    "id": "At4hRkGQZeDU"
   },
   "source": [
    "**start from here for the deleting second toluene bc we want to work on the df which does not have the first touluene so we should start with df2**"
   ]
  },
  {
   "cell_type": "code",
   "execution_count": null,
   "metadata": {
    "colab": {
     "base_uri": "https://localhost:8080/"
    },
    "executionInfo": {
     "elapsed": 689,
     "status": "ok",
     "timestamp": 1610630559528,
     "user": {
      "displayName": "Saeed Akbari Shandiz",
      "photoUrl": "https://lh3.googleusercontent.com/a-/AOh14Gj_ltTfyzFcj-EidKK-RDh3G-RSeGnX-lq1mmA5=s64",
      "userId": "18254360833802486461"
     },
     "user_tz": 300
    },
    "id": "7wTvLg-NGp1z",
    "outputId": "0e4fa77b-1c31-47ee-ebdd-43071499cdea"
   },
   "outputs": [],
   "source": [
    "#to count # of atoms for that molecule \n",
    "atmCounter=0\n",
    "\n",
    "#df['molID'] = ''.join(df['molID']) # converting list into string\n",
    "df_atom2['molID'] = df_atom2['molID'].astype(int) \n",
    "\n",
    "for index in df_atom2.index: \n",
    "  #this will just show index of lines that molID is this number and will delete them totally. Thank GOD!!!\n",
    "  if df_atom2.loc[index,'molID'] == deletedMolecule:  #---------------------------------------here I put the desired molecule number that I want to be deleted--------------------------------------------------------------------------------\n",
    "    atmCounter=atmCounter+1\n",
    "\n",
    "atmCounter"
   ]
  },
  {
   "cell_type": "code",
   "execution_count": null,
   "metadata": {
    "colab": {
     "base_uri": "https://localhost:8080/",
     "height": 424
    },
    "executionInfo": {
     "elapsed": 979,
     "status": "ok",
     "timestamp": 1610630579036,
     "user": {
      "displayName": "Saeed Akbari Shandiz",
      "photoUrl": "https://lh3.googleusercontent.com/a-/AOh14Gj_ltTfyzFcj-EidKK-RDh3G-RSeGnX-lq1mmA5=s64",
      "userId": "18254360833802486461"
     },
     "user_tz": 300
    },
    "id": "RniksibO5njk",
    "outputId": "b4187c16-4446-4e6f-d129-29fb330ef5f1"
   },
   "outputs": [],
   "source": [
    "#this will just show index of lines that molID has this number and will delete them totally. Thank GOD!!!\n",
    "atomID_arr=[] # we need this array for use in bond list\n",
    "atomID_arr=np.zeros (df_atom2.shape[0])# df.shape[0] count number of rows in the data frame pandas\n",
    "\n",
    "df_atom2['molID'] = df_atom2['molID'].astype(int) \n",
    "for index in df_atom2.index: \n",
    "  if df_atom2.loc[index,'molID'] == deletedMolecule: \n",
    "  \n",
    "   atomID_arr[index]= df_atom2.loc[index,'atomID'] # save atom ID of atoms in the deleted molecule for  using in bond list\n",
    "   df_atom2=df_atom2.drop(index)\n",
    " \n",
    "df_atom2\n",
    "\n",
    "#atomID_arr[:]"
   ]
  },
  {
   "cell_type": "code",
   "execution_count": null,
   "metadata": {
    "colab": {
     "base_uri": "https://localhost:8080/"
    },
    "executionInfo": {
     "elapsed": 714,
     "status": "ok",
     "timestamp": 1610630585723,
     "user": {
      "displayName": "Saeed Akbari Shandiz",
      "photoUrl": "https://lh3.googleusercontent.com/a-/AOh14Gj_ltTfyzFcj-EidKK-RDh3G-RSeGnX-lq1mmA5=s64",
      "userId": "18254360833802486461"
     },
     "user_tz": 300
    },
    "id": "0whNaxGdA_9R",
    "outputId": "348e9395-437e-44a5-a7fb-095ddbf94166"
   },
   "outputs": [],
   "source": [
    "atomID_arr=atomID_arr[atomID_arr!=0] # to delete zero cells from the list(array)\n",
    "atomID_arr.shape\n",
    "print(atomID_arr)"
   ]
  },
  {
   "cell_type": "code",
   "execution_count": null,
   "metadata": {
    "colab": {
     "base_uri": "https://localhost:8080/"
    },
    "executionInfo": {
     "elapsed": 7700,
     "status": "ok",
     "timestamp": 1610630601586,
     "user": {
      "displayName": "Saeed Akbari Shandiz",
      "photoUrl": "https://lh3.googleusercontent.com/a-/AOh14Gj_ltTfyzFcj-EidKK-RDh3G-RSeGnX-lq1mmA5=s64",
      "userId": "18254360833802486461"
     },
     "user_tz": 300
    },
    "id": "VSzbpFymguaw",
    "outputId": "f0b49bd4-9238-4c5a-fd79-bd91b8074253"
   },
   "outputs": [],
   "source": [
    "#order atom ID\n",
    "df_atom2.loc[:,\"atomID\"] = df_atom2.loc[:,\"atomID\"].astype(int) #convert string to int\n",
    "\n",
    "for index in df_atom2.index:\n",
    "  if (df_atom2.loc[index,\"atomID\"]) > (atomID_arr[0].astype(int)):\n",
    "  \n",
    "    df_atom2.loc[index,\"atomID\"] =df_atom2.loc[index,\"atomID\"]-atmCounter \n",
    "    #df.loc[df['atomID'] >atmCounter , 'atomID'] = df.loc[index,\"atomID\"]-atmCounter    #to modify the column of atomID after deleting the atoms of toluene in atom list. it is a if condition in python\n",
    "print(df_atom2)"
   ]
  },
  {
   "cell_type": "code",
   "execution_count": null,
   "metadata": {
    "colab": {
     "base_uri": "https://localhost:8080/"
    },
    "executionInfo": {
     "elapsed": 7472,
     "status": "ok",
     "timestamp": 1610630682313,
     "user": {
      "displayName": "Saeed Akbari Shandiz",
      "photoUrl": "https://lh3.googleusercontent.com/a-/AOh14Gj_ltTfyzFcj-EidKK-RDh3G-RSeGnX-lq1mmA5=s64",
      "userId": "18254360833802486461"
     },
     "user_tz": 300
    },
    "id": "uinlw1Zfz0Pn",
    "outputId": "da5137ba-25b8-486c-d715-59fd56ab3700"
   },
   "outputs": [],
   "source": [
    "#order mol ID\n",
    "df_atom2.loc[:,\"molID\"] = df_atom2.loc[:,\"molID\"].astype(int) #convert string to int\n",
    "\n",
    "for index in df_atom2.index:\n",
    "  if (df_atom2.loc[index,\"molID\"]) > deletedMolecule:\n",
    "  \n",
    "    df_atom2.loc[index,\"molID\"] =df_atom2.loc[index,\"molID\"]-1 #each time 1 molecule will be deleted \n",
    "    #df.loc[df['atomID'] >atmCounter , 'atomID'] = df.loc[index,\"atomID\"]-atmCounter    #to modify the column of atomID after deleting the atoms of toluene in atom list. it is a if condition in python\n",
    "print(df_atom2)"
   ]
  },
  {
   "cell_type": "code",
   "execution_count": null,
   "metadata": {
    "executionInfo": {
     "elapsed": 388,
     "status": "ok",
     "timestamp": 1610630699271,
     "user": {
      "displayName": "Saeed Akbari Shandiz",
      "photoUrl": "https://lh3.googleusercontent.com/a-/AOh14Gj_ltTfyzFcj-EidKK-RDh3G-RSeGnX-lq1mmA5=s64",
      "userId": "18254360833802486461"
     },
     "user_tz": 300
    },
    "id": "o6rskjnQcxxm"
   },
   "outputs": [],
   "source": [
    "# to write the new atom list from data frame (pandas) to a file\n",
    "df_atom2.to_csv(r'/content/drive/My Drive/Case/CatenaneStructure/peo/peoRingTol/atoms2.txt', header=None, index=None, sep=' ', mode='a')"
   ]
  },
  {
   "cell_type": "code",
   "execution_count": null,
   "metadata": {
    "id": "JLLNNOanY7ur"
   },
   "outputs": [],
   "source": [
    "# to write what we see in screen into a file\n",
    "#original_stdout = sys.stdout # Save a reference to the original standard output\n",
    "#with open('/content/drive/My Drive/Case/CatenaneStructure/atoms.txt', 'w') as f:\n",
    "    #sys.stdout = f # Change the standard output to the file we created.\n",
    "    #print(df)\n",
    "\n",
    "    #sys.stdout = original_stdout # Reset the standard output to its original value"
   ]
  },
  {
   "cell_type": "code",
   "execution_count": null,
   "metadata": {
    "colab": {
     "base_uri": "https://localhost:8080/",
     "height": 424
    },
    "executionInfo": {
     "elapsed": 343,
     "status": "ok",
     "timestamp": 1607894109864,
     "user": {
      "displayName": "Saeed Akbari Shandiz",
      "photoUrl": "https://lh3.googleusercontent.com/a-/AOh14Gj_ltTfyzFcj-EidKK-RDh3G-RSeGnX-lq1mmA5=s64",
      "userId": "18254360833802486461"
     },
     "user_tz": 300
    },
    "id": "mqQm2_IOEOlb",
    "outputId": "ed037ac8-17b3-4039-d732-46173a20d800"
   },
   "outputs": [],
   "source": [
    "df_atom3=df_atom2\n",
    "df_atom3"
   ]
  },
  {
   "cell_type": "markdown",
   "metadata": {
    "id": "C2gcsZ3bgBBJ"
   },
   "source": [
    "**Bond list**"
   ]
  },
  {
   "cell_type": "code",
   "execution_count": null,
   "metadata": {
    "executionInfo": {
     "elapsed": 306,
     "status": "ok",
     "timestamp": 1610630727705,
     "user": {
      "displayName": "Saeed Akbari Shandiz",
      "photoUrl": "https://lh3.googleusercontent.com/a-/AOh14Gj_ltTfyzFcj-EidKK-RDh3G-RSeGnX-lq1mmA5=s64",
      "userId": "18254360833802486461"
     },
     "user_tz": 300
    },
    "id": "HZfXTC8dg5Xh"
   },
   "outputs": [],
   "source": [
    "lines=[]\n",
    "with open('/content/drive/My Drive/Case/CatenaneStructure/peo/peoRingTol/peoRingTolDelTol1.dat') as fp:   # to read lines if atomlist after \"Atoms\"\n",
    "        for line in fp:\n",
    "            if 'Bonds' in line:                                         \n",
    "                for line in fp: # now you are at the lines you want\n",
    "                    if 'Angles' in line: \n",
    "                     break \n",
    "                   \n",
    "                    line=line.rstrip()# to remove any white spaces at the end of the string                  \n",
    "                    #\n",
    "                    lines.append(line)# add the string in to the list\n",
    "                    #lines= line.split(\"space\")# for line in a pandas data frame. here it can not read our lines separetely. it reads all lines as a line so does not split it into different indexs"
   ]
  },
  {
   "cell_type": "code",
   "execution_count": null,
   "metadata": {
    "executionInfo": {
     "elapsed": 425,
     "status": "ok",
     "timestamp": 1610630734434,
     "user": {
      "displayName": "Saeed Akbari Shandiz",
      "photoUrl": "https://lh3.googleusercontent.com/a-/AOh14Gj_ltTfyzFcj-EidKK-RDh3G-RSeGnX-lq1mmA5=s64",
      "userId": "18254360833802486461"
     },
     "user_tz": 300
    },
    "id": "YckkJogMhEor"
   },
   "outputs": [],
   "source": [
    "#remove empty lines from the list\n",
    "while(\"\" in lines) : \n",
    "    lines.remove(\"\") \n",
    "    "
   ]
  },
  {
   "cell_type": "code",
   "execution_count": null,
   "metadata": {
    "colab": {
     "base_uri": "https://localhost:8080/",
     "height": 424
    },
    "executionInfo": {
     "elapsed": 589,
     "status": "ok",
     "timestamp": 1610630737600,
     "user": {
      "displayName": "Saeed Akbari Shandiz",
      "photoUrl": "https://lh3.googleusercontent.com/a-/AOh14Gj_ltTfyzFcj-EidKK-RDh3G-RSeGnX-lq1mmA5=s64",
      "userId": "18254360833802486461"
     },
     "user_tz": 300
    },
    "id": "bTlVLHJNhYvh",
    "outputId": "e918285b-8590-44a7-a3b1-3a4fb8f2cc38"
   },
   "outputs": [],
   "source": [
    "df_bond2=pd.DataFrame(lines, columns=['bondID']) # to make a data frame of pandas from the list and put bondID name on the column\n",
    "df_bond2[['bondID','type','atomID1','atomID2']] = df_bond2.bondID.str.split(expand=True,) # to split one column to multiple columns and allocate name for each column\n",
    "df_bond2"
   ]
  },
  {
   "cell_type": "markdown",
   "metadata": {
    "id": "sOeN7qFRMWA6"
   },
   "source": [
    "**start from here for the deleting second toluene bc we want to work on the df which does not have the first touluene so we should start with df2**\n"
   ]
  },
  {
   "cell_type": "code",
   "execution_count": null,
   "metadata": {
    "colab": {
     "base_uri": "https://localhost:8080/"
    },
    "executionInfo": {
     "elapsed": 14836,
     "status": "ok",
     "timestamp": 1610630768037,
     "user": {
      "displayName": "Saeed Akbari Shandiz",
      "photoUrl": "https://lh3.googleusercontent.com/a-/AOh14Gj_ltTfyzFcj-EidKK-RDh3G-RSeGnX-lq1mmA5=s64",
      "userId": "18254360833802486461"
     },
     "user_tz": 300
    },
    "id": "DyApBhT6hxlr",
    "outputId": "f9ff2e71-2e80-46c1-d107-5bfbc542cdbf"
   },
   "outputs": [],
   "source": [
    "#show bonds that should be deleted\n",
    "deleted_bonds=[]\n",
    "deleted_bonds=np.zeros (df_bond2.shape[0])# df.shape[0] count number of rows in the data frame pandas\n",
    "\n",
    "for i in df_bond2.index:\n",
    "   \n",
    "   for index in range (0,atmCounter): # is coorect. if atomID_arr elements are not start from 1 we still have counter which start from 1 (0 index)\n",
    "      #print(i, '  ',df.loc[i,'atomID1'],'  ',atomID_arr[index].astype(int))\n",
    "      if float(df_bond2.loc[i,'atomID1']) == atomID_arr[index].astype(int) or float(df_bond2.loc[i,'atomID2']) == atomID_arr[index].astype(int):\n",
    "        deleted_bonds[i]=i+1 #to start from 1 instead of zero bc in next step i will delete zeros so will have problem if have atom with zero index in deleted_atoms[i]\n",
    "        if deleted_bonds[i].astype(int) != 0:\n",
    "          print(i,\"  \",deleted_bonds[i].astype(int),'  ',df_bond2.loc[i,'atomID1'])"
   ]
  },
  {
   "cell_type": "code",
   "execution_count": null,
   "metadata": {
    "colab": {
     "base_uri": "https://localhost:8080/",
     "height": 424
    },
    "executionInfo": {
     "elapsed": 300,
     "status": "ok",
     "timestamp": 1610630784841,
     "user": {
      "displayName": "Saeed Akbari Shandiz",
      "photoUrl": "https://lh3.googleusercontent.com/a-/AOh14Gj_ltTfyzFcj-EidKK-RDh3G-RSeGnX-lq1mmA5=s64",
      "userId": "18254360833802486461"
     },
     "user_tz": 300
    },
    "id": "R1zotJmy1GbP",
    "outputId": "d6d9b92e-3a16-4413-9076-34b93a73de52"
   },
   "outputs": [],
   "source": [
    "#sort the atomID1 to put bonds in order based of one of atomIDs\n",
    "df_bond2.loc[:,\"atomID1\"]= df_bond2.loc[:,\"atomID1\"].astype(int) # the atomID column is a string and we should convert it to int\n",
    "\n",
    "df_bond2.sort_values(by=['atomID1'], inplace=True) # to put the atomID in order\n",
    "df_bond2"
   ]
  },
  {
   "cell_type": "code",
   "execution_count": null,
   "metadata": {
    "colab": {
     "base_uri": "https://localhost:8080/",
     "height": 424
    },
    "executionInfo": {
     "elapsed": 489,
     "status": "ok",
     "timestamp": 1610630788266,
     "user": {
      "displayName": "Saeed Akbari Shandiz",
      "photoUrl": "https://lh3.googleusercontent.com/a-/AOh14Gj_ltTfyzFcj-EidKK-RDh3G-RSeGnX-lq1mmA5=s64",
      "userId": "18254360833802486461"
     },
     "user_tz": 300
    },
    "id": "6MpPCPpF-DSF",
    "outputId": "31346efd-c772-4a8a-9b84-75051ed26f3e"
   },
   "outputs": [],
   "source": [
    "#delete the bonds\n",
    "\n",
    "df_bond2.loc[:,\"atomID1\"] = df_bond2.loc[:,\"atomID1\"].astype(int) #convert string to int\n",
    "df_bond2.loc[:,\"atomID2\"] = df_bond2.loc[:,\"atomID2\"].astype(int) #convert string to int\n",
    "deleted_count=0\n",
    "deleted_count_array=np.zeros(df_bond2.shape[0])\n",
    "\n",
    "for i in df_bond2.index:\n",
    "      #print(deleted_count)\n",
    "      deleted_count_array[i] = deleted_count\n",
    "\n",
    "      if deleted_bonds[i].astype(int) != 0:\n",
    "        deleted_count+=1\n",
    "        \n",
    "        df_bond2=df_bond2.drop([i])   # delete the bond\n",
    "   \n",
    "df_bond2"
   ]
  },
  {
   "cell_type": "code",
   "execution_count": null,
   "metadata": {
    "colab": {
     "base_uri": "https://localhost:8080/"
    },
    "executionInfo": {
     "elapsed": 293,
     "status": "ok",
     "timestamp": 1610630795650,
     "user": {
      "displayName": "Saeed Akbari Shandiz",
      "photoUrl": "https://lh3.googleusercontent.com/a-/AOh14Gj_ltTfyzFcj-EidKK-RDh3G-RSeGnX-lq1mmA5=s64",
      "userId": "18254360833802486461"
     },
     "user_tz": 300
    },
    "id": "fGybGAxK_Ffk",
    "outputId": "d2a8538c-eda7-47e0-a8ea-612d70a7c203"
   },
   "outputs": [],
   "source": [
    "deleted_count_array"
   ]
  },
  {
   "cell_type": "code",
   "execution_count": null,
   "metadata": {
    "colab": {
     "base_uri": "https://localhost:8080/"
    },
    "executionInfo": {
     "elapsed": 465,
     "status": "ok",
     "timestamp": 1610630810908,
     "user": {
      "displayName": "Saeed Akbari Shandiz",
      "photoUrl": "https://lh3.googleusercontent.com/a-/AOh14Gj_ltTfyzFcj-EidKK-RDh3G-RSeGnX-lq1mmA5=s64",
      "userId": "18254360833802486461"
     },
     "user_tz": 300
    },
    "id": "R5aPhqwXjDNO",
    "outputId": "bb1716fc-79c3-4fe1-f665-85dc1cc5fe15"
   },
   "outputs": [],
   "source": [
    "atomID_arr[0].astype(int)"
   ]
  },
  {
   "cell_type": "code",
   "execution_count": null,
   "metadata": {
    "colab": {
     "base_uri": "https://localhost:8080/",
     "height": 424
    },
    "executionInfo": {
     "elapsed": 14404,
     "status": "ok",
     "timestamp": 1610630826764,
     "user": {
      "displayName": "Saeed Akbari Shandiz",
      "photoUrl": "https://lh3.googleusercontent.com/a-/AOh14Gj_ltTfyzFcj-EidKK-RDh3G-RSeGnX-lq1mmA5=s64",
      "userId": "18254360833802486461"
     },
     "user_tz": 300
    },
    "id": "oAunBsgZBHJO",
    "outputId": "e416ebdb-4df4-48a6-9b98-2cd04fb2c7cd"
   },
   "outputs": [],
   "source": [
    "#fix the order of atomID1 and atomId2\n",
    "for i in df_bond2.index:\n",
    "  if (df_bond2.loc[i,\"atomID1\"]) > (atomID_arr[0].astype(int)):\n",
    "     df_bond2.loc[i,\"atomID1\"] =df_bond2.loc[i,\"atomID1\"]-deleted_count_array[i].astype(int)\n",
    "     df_bond2.loc[i,\"atomID2\"] =df_bond2.loc[i,\"atomID2\"]-deleted_count_array[i].astype(int)\n",
    "\n",
    "df_bond2"
   ]
  },
  {
   "cell_type": "code",
   "execution_count": null,
   "metadata": {
    "colab": {
     "base_uri": "https://localhost:8080/"
    },
    "executionInfo": {
     "elapsed": 337,
     "status": "ok",
     "timestamp": 1610630852930,
     "user": {
      "displayName": "Saeed Akbari Shandiz",
      "photoUrl": "https://lh3.googleusercontent.com/a-/AOh14Gj_ltTfyzFcj-EidKK-RDh3G-RSeGnX-lq1mmA5=s64",
      "userId": "18254360833802486461"
     },
     "user_tz": 300
    },
    "id": "8Ltzr0ukMSfi",
    "outputId": "56a5e7d7-0501-4b8c-e6e1-458db4786e53"
   },
   "outputs": [],
   "source": [
    "deleted_bonds=deleted_bonds[deleted_bonds!=0] # to delete zero cells from the list(array)\n",
    "deleted_bonds.shape\n",
    "print(deleted_bonds)"
   ]
  },
  {
   "cell_type": "code",
   "execution_count": null,
   "metadata": {
    "colab": {
     "base_uri": "https://localhost:8080/"
    },
    "executionInfo": {
     "elapsed": 456,
     "status": "ok",
     "timestamp": 1610630855367,
     "user": {
      "displayName": "Saeed Akbari Shandiz",
      "photoUrl": "https://lh3.googleusercontent.com/a-/AOh14Gj_ltTfyzFcj-EidKK-RDh3G-RSeGnX-lq1mmA5=s64",
      "userId": "18254360833802486461"
     },
     "user_tz": 300
    },
    "id": "_dUl4eqNw1O1",
    "outputId": "536d086f-77a9-4348-dfed-1b7060bfd36f"
   },
   "outputs": [],
   "source": [
    "# to sort the index after deleting some of the bonds. we can use it also for sorting bond ID. so either the above code or this code can be used for sorting bonds\n",
    "df_bond2['bondID'] = df_bond2['bondID'].astype(int) #convert string to int\n",
    "\n",
    "df_bond2=df_bond2.reset_index(drop=True)# reset the index from 0 to end\n",
    "\n",
    "df_bond2['bondID']=df_bond2.index+1 # reset the bondID from 1 to end. ThankGOD!\n",
    "print(df_bond2)"
   ]
  },
  {
   "cell_type": "code",
   "execution_count": null,
   "metadata": {
    "executionInfo": {
     "elapsed": 314,
     "status": "ok",
     "timestamp": 1610630862223,
     "user": {
      "displayName": "Saeed Akbari Shandiz",
      "photoUrl": "https://lh3.googleusercontent.com/a-/AOh14Gj_ltTfyzFcj-EidKK-RDh3G-RSeGnX-lq1mmA5=s64",
      "userId": "18254360833802486461"
     },
     "user_tz": 300
    },
    "id": "fj6kBpqZd_UA"
   },
   "outputs": [],
   "source": [
    "# to write the new atom list from data frame (pandas) to a file\n",
    "df_bond2.to_csv(r'/content/drive/My Drive/Case/CatenaneStructure/peo/peoRingTol/bonds2.txt', header=None, index=None, sep=' ', mode='a')\n"
   ]
  },
  {
   "cell_type": "code",
   "execution_count": null,
   "metadata": {
    "colab": {
     "base_uri": "https://localhost:8080/",
     "height": 424
    },
    "executionInfo": {
     "elapsed": 301,
     "status": "ok",
     "timestamp": 1607897331028,
     "user": {
      "displayName": "Saeed Akbari Shandiz",
      "photoUrl": "https://lh3.googleusercontent.com/a-/AOh14Gj_ltTfyzFcj-EidKK-RDh3G-RSeGnX-lq1mmA5=s64",
      "userId": "18254360833802486461"
     },
     "user_tz": 300
    },
    "id": "MtKqWerU8dn9",
    "outputId": "145d9e57-b601-433f-b4f2-f3d9115be3c7"
   },
   "outputs": [],
   "source": [
    "df_bond3=df_bond2\n",
    "df_bond3"
   ]
  },
  {
   "cell_type": "markdown",
   "metadata": {
    "id": "iabz0Y804wgj"
   },
   "source": [
    "**Angle list**"
   ]
  },
  {
   "cell_type": "code",
   "execution_count": null,
   "metadata": {
    "executionInfo": {
     "elapsed": 308,
     "status": "ok",
     "timestamp": 1610630873874,
     "user": {
      "displayName": "Saeed Akbari Shandiz",
      "photoUrl": "https://lh3.googleusercontent.com/a-/AOh14Gj_ltTfyzFcj-EidKK-RDh3G-RSeGnX-lq1mmA5=s64",
      "userId": "18254360833802486461"
     },
     "user_tz": 300
    },
    "id": "rC_oBQPQ47FL"
   },
   "outputs": [],
   "source": [
    "lines=[]\n",
    "with open('/content/drive/My Drive/Case/CatenaneStructure/peo/peoRingTol/peoRingTolDelTol1.dat') as fp:   # to read lines if atomlist after \"Atoms\"\n",
    "        for line in fp:\n",
    "            if 'Angles' in line:                                         \n",
    "                for line in fp: # now you are at the lines you want\n",
    "                    if 'Dihedrals' in line: \n",
    "                     break \n",
    "                   \n",
    "                    line=line.rstrip()# to remove any white spaces at the end of the string                  \n",
    "                    #\n",
    "                    lines.append(line)# add the string in to the list\n",
    "                    #lines= line.split(\"space\")# for line in a pandas data frame. here it can not read our lines separetely. it reads all lines as a line so does not split it into different indexs"
   ]
  },
  {
   "cell_type": "code",
   "execution_count": null,
   "metadata": {
    "executionInfo": {
     "elapsed": 350,
     "status": "ok",
     "timestamp": 1610630877886,
     "user": {
      "displayName": "Saeed Akbari Shandiz",
      "photoUrl": "https://lh3.googleusercontent.com/a-/AOh14Gj_ltTfyzFcj-EidKK-RDh3G-RSeGnX-lq1mmA5=s64",
      "userId": "18254360833802486461"
     },
     "user_tz": 300
    },
    "id": "j5vT7Srx5Ir6"
   },
   "outputs": [],
   "source": [
    "#remove empty lines from the list\n",
    "while(\"\" in lines) : \n",
    "    lines.remove(\"\") "
   ]
  },
  {
   "cell_type": "code",
   "execution_count": null,
   "metadata": {
    "colab": {
     "base_uri": "https://localhost:8080/",
     "height": 424
    },
    "executionInfo": {
     "elapsed": 542,
     "status": "ok",
     "timestamp": 1610630879356,
     "user": {
      "displayName": "Saeed Akbari Shandiz",
      "photoUrl": "https://lh3.googleusercontent.com/a-/AOh14Gj_ltTfyzFcj-EidKK-RDh3G-RSeGnX-lq1mmA5=s64",
      "userId": "18254360833802486461"
     },
     "user_tz": 300
    },
    "id": "ujOYkRle5R94",
    "outputId": "ba1c89b5-34da-41d7-fdd4-3844db03c711"
   },
   "outputs": [],
   "source": [
    "df_angles2=pd.DataFrame(lines, columns=['angleID']) # to make a data frame of pandas from the list and put bondID name on the column\n",
    "df_angles2[['angleID','type','atomID1','atomID2','atomID3']] = df_angles2.angleID.str.split(expand=True,) # to split one column to multiple columns and allocate name for each column\n",
    "df_angles2"
   ]
  },
  {
   "cell_type": "markdown",
   "metadata": {
    "id": "HK-YAB8jONQi"
   },
   "source": [
    "**start from here for the deleting second toluene bc we want to work on the df which does not have the first touluene so we should start with df2**"
   ]
  },
  {
   "cell_type": "code",
   "execution_count": null,
   "metadata": {
    "colab": {
     "base_uri": "https://localhost:8080/"
    },
    "executionInfo": {
     "elapsed": 35654,
     "status": "ok",
     "timestamp": 1610630920252,
     "user": {
      "displayName": "Saeed Akbari Shandiz",
      "photoUrl": "https://lh3.googleusercontent.com/a-/AOh14Gj_ltTfyzFcj-EidKK-RDh3G-RSeGnX-lq1mmA5=s64",
      "userId": "18254360833802486461"
     },
     "user_tz": 300
    },
    "id": "lfcKHGShHVO8",
    "outputId": "00983e3d-74dd-4e8b-e5b8-eb1b264264a0"
   },
   "outputs": [],
   "source": [
    "# to delete rows of angles for that toluene molecule\n",
    "deleted_angles=[]\n",
    "deleted_angles=np.zeros (df_angles2.shape[0])# df.shape[0] count number of rows in the data frame pandas\n",
    "\n",
    "for i in df_angles2.index:\n",
    "   for index in range (0,atmCounter): # is coorect. if atomID_arr elements are not start from 1 we still have counter which start from 1 (0 index)\n",
    "      if float(df_angles2.loc[i,'atomID1']) == atomID_arr[index].astype(int) or float(df_angles2.loc[i,'atomID2']) == atomID_arr[index].astype(int) or float(df_angles2.loc[i,'atomID3']) == atomID_arr[index].astype(int):\n",
    "        deleted_angles[i]=i+1 #to start from 1 instead of zero bc in next step i will delete zeros so will have problem if have atom with zero index in deleted_atoms[i]\n",
    "        if deleted_angles[i].astype(int) != 0:\n",
    "          print(i,\"  \",deleted_angles[i].astype(int))\n"
   ]
  },
  {
   "cell_type": "code",
   "execution_count": null,
   "metadata": {
    "colab": {
     "base_uri": "https://localhost:8080/",
     "height": 424
    },
    "executionInfo": {
     "elapsed": 781,
     "status": "ok",
     "timestamp": 1610630940378,
     "user": {
      "displayName": "Saeed Akbari Shandiz",
      "photoUrl": "https://lh3.googleusercontent.com/a-/AOh14Gj_ltTfyzFcj-EidKK-RDh3G-RSeGnX-lq1mmA5=s64",
      "userId": "18254360833802486461"
     },
     "user_tz": 300
    },
    "id": "lQTBITPUVIQ5",
    "outputId": "c3badf97-e206-41c2-c26c-c8e5f40b0614"
   },
   "outputs": [],
   "source": [
    "for i in df_angles2.index:\n",
    "   \n",
    "      if deleted_angles[i].astype(int) != 0:\n",
    "        \n",
    "        df_angles2=df_angles2.drop([i])   \n",
    "df_angles2"
   ]
  },
  {
   "cell_type": "code",
   "execution_count": null,
   "metadata": {
    "colab": {
     "base_uri": "https://localhost:8080/"
    },
    "executionInfo": {
     "elapsed": 309,
     "status": "ok",
     "timestamp": 1610630954705,
     "user": {
      "displayName": "Saeed Akbari Shandiz",
      "photoUrl": "https://lh3.googleusercontent.com/a-/AOh14Gj_ltTfyzFcj-EidKK-RDh3G-RSeGnX-lq1mmA5=s64",
      "userId": "18254360833802486461"
     },
     "user_tz": 300
    },
    "id": "wWOOMCm5QgEA",
    "outputId": "ec0c5803-b269-4610-9825-d69b02413105"
   },
   "outputs": [],
   "source": [
    "deleted_angles=deleted_angles[deleted_angles!=0] # to delete zero cells from the list(array)\n",
    "deleted_angles.shape\n",
    "print(deleted_angles)"
   ]
  },
  {
   "cell_type": "code",
   "execution_count": null,
   "metadata": {
    "colab": {
     "base_uri": "https://localhost:8080/"
    },
    "executionInfo": {
     "elapsed": 336,
     "status": "ok",
     "timestamp": 1610630966024,
     "user": {
      "displayName": "Saeed Akbari Shandiz",
      "photoUrl": "https://lh3.googleusercontent.com/a-/AOh14Gj_ltTfyzFcj-EidKK-RDh3G-RSeGnX-lq1mmA5=s64",
      "userId": "18254360833802486461"
     },
     "user_tz": 300
    },
    "id": "Oh_DlBnalNmv",
    "outputId": "26db0b2d-6c72-4cea-eb8c-4c6b284bce76"
   },
   "outputs": [],
   "source": [
    "# to sort the index after deleting some of the bonds. we can use it also for sorting bond ID. so either the above code or this code can be used for sorting bonds\n",
    "df_angles2['angleID'] = df_angles2['angleID'].astype(int) #convert string to int\n",
    "\n",
    "df_angles2=df_angles2.reset_index(drop=True)# reset the index from 0 to end\n",
    "\n",
    "df_angles2['angleID']=df_angles2.index+1 # reset the bondID from 1 to end. ThankGOD!\n",
    "print(df_angles2)"
   ]
  },
  {
   "cell_type": "code",
   "execution_count": null,
   "metadata": {
    "colab": {
     "base_uri": "https://localhost:8080/"
    },
    "executionInfo": {
     "elapsed": 13990,
     "status": "ok",
     "timestamp": 1610630982434,
     "user": {
      "displayName": "Saeed Akbari Shandiz",
      "photoUrl": "https://lh3.googleusercontent.com/a-/AOh14Gj_ltTfyzFcj-EidKK-RDh3G-RSeGnX-lq1mmA5=s64",
      "userId": "18254360833802486461"
     },
     "user_tz": 300
    },
    "id": "7sriP1lLLgud",
    "outputId": "d4aa40de-db57-40f6-9cf7-92ddc16b4943"
   },
   "outputs": [],
   "source": [
    "#order atom ID1\n",
    "df_angles2.loc[:,\"atomID1\"] = df_angles2.loc[:,\"atomID1\"].astype(int) #convert string to int\n",
    "\n",
    "for index in df_angles2.index:\n",
    "  if (df_angles2.loc[index,\"atomID1\"]) > (atomID_arr[0].astype(int)):\n",
    "  \n",
    "    df_angles2.loc[index,\"atomID1\"] =df_angles2.loc[index,\"atomID1\"]-atmCounter \n",
    "    #df.loc[df['atomID'] >atmCounter , 'atomID'] = df.loc[index,\"atomID\"]-atmCounter    #to modify the column of atomID after deleting the atoms of toluene in atom list. it is a if condition in python\n",
    "print(df_angles2)"
   ]
  },
  {
   "cell_type": "code",
   "execution_count": null,
   "metadata": {
    "colab": {
     "base_uri": "https://localhost:8080/"
    },
    "executionInfo": {
     "elapsed": 13964,
     "status": "ok",
     "timestamp": 1610631021762,
     "user": {
      "displayName": "Saeed Akbari Shandiz",
      "photoUrl": "https://lh3.googleusercontent.com/a-/AOh14Gj_ltTfyzFcj-EidKK-RDh3G-RSeGnX-lq1mmA5=s64",
      "userId": "18254360833802486461"
     },
     "user_tz": 300
    },
    "id": "pqS58cTSLly7",
    "outputId": "938c1f31-a89e-42e8-9052-1d7f4d8aebf5"
   },
   "outputs": [],
   "source": [
    "#order atom ID2\n",
    "df_angles2.loc[:,\"atomID2\"] = df_angles2.loc[:,\"atomID2\"].astype(int) #convert string to int\n",
    "\n",
    "for index in df_angles2.index:\n",
    "  if (df_angles2.loc[index,\"atomID2\"]) > (atomID_arr[0].astype(int)):\n",
    "  \n",
    "    df_angles2.loc[index,\"atomID2\"] =df_angles2.loc[index,\"atomID2\"]-atmCounter \n",
    "    #df.loc[df['atomID'] >atmCounter , 'atomID'] = df.loc[index,\"atomID\"]-atmCounter    #to modify the column of atomID after deleting the atoms of toluene in atom list. it is a if condition in python\n",
    "print(df_angles2)"
   ]
  },
  {
   "cell_type": "code",
   "execution_count": null,
   "metadata": {
    "colab": {
     "base_uri": "https://localhost:8080/"
    },
    "executionInfo": {
     "elapsed": 14088,
     "status": "ok",
     "timestamp": 1610631042325,
     "user": {
      "displayName": "Saeed Akbari Shandiz",
      "photoUrl": "https://lh3.googleusercontent.com/a-/AOh14Gj_ltTfyzFcj-EidKK-RDh3G-RSeGnX-lq1mmA5=s64",
      "userId": "18254360833802486461"
     },
     "user_tz": 300
    },
    "id": "QjB7iJNHLrBk",
    "outputId": "e898ada6-c312-41f5-8ce7-7c35b22a36c0"
   },
   "outputs": [],
   "source": [
    "#order atom ID3\n",
    "df_angles2.loc[:,\"atomID3\"] = df_angles2.loc[:,\"atomID3\"].astype(int) #convert string to int\n",
    "\n",
    "for index in df_angles2.index:\n",
    "  if (df_angles2.loc[index,\"atomID3\"]) > (atomID_arr[0].astype(int)):\n",
    "  \n",
    "    df_angles2.loc[index,\"atomID3\"] =df_angles2.loc[index,\"atomID3\"]-atmCounter \n",
    "    #df.loc[df['atomID'] >atmCounter , 'atomID'] = df.loc[index,\"atomID\"]-atmCounter    #to modify the column of atomID after deleting the atoms of toluene in atom list. it is a if condition in python\n",
    "print(df_angles2)"
   ]
  },
  {
   "cell_type": "code",
   "execution_count": null,
   "metadata": {
    "executionInfo": {
     "elapsed": 371,
     "status": "ok",
     "timestamp": 1610631060779,
     "user": {
      "displayName": "Saeed Akbari Shandiz",
      "photoUrl": "https://lh3.googleusercontent.com/a-/AOh14Gj_ltTfyzFcj-EidKK-RDh3G-RSeGnX-lq1mmA5=s64",
      "userId": "18254360833802486461"
     },
     "user_tz": 300
    },
    "id": "ysN2JvXreHoV"
   },
   "outputs": [],
   "source": [
    "# to write the new atom list from data frame (pandas) to a file\n",
    "df_angles2.to_csv(r'/content/drive/My Drive/Case/CatenaneStructure/peo/peoRingTol/angle2.txt', header=None, index=None, sep=' ', mode='a')"
   ]
  },
  {
   "cell_type": "code",
   "execution_count": null,
   "metadata": {
    "colab": {
     "base_uri": "https://localhost:8080/",
     "height": 424
    },
    "executionInfo": {
     "elapsed": 293,
     "status": "ok",
     "timestamp": 1607898400267,
     "user": {
      "displayName": "Saeed Akbari Shandiz",
      "photoUrl": "https://lh3.googleusercontent.com/a-/AOh14Gj_ltTfyzFcj-EidKK-RDh3G-RSeGnX-lq1mmA5=s64",
      "userId": "18254360833802486461"
     },
     "user_tz": 300
    },
    "id": "kTyLOs-dPMhW",
    "outputId": "82890906-6606-41db-c1c3-db81ac63f1c4"
   },
   "outputs": [],
   "source": [
    "df_angles3= df_angles2\n",
    "df_angles3"
   ]
  },
  {
   "cell_type": "markdown",
   "metadata": {
    "id": "JDIVfHKu_BpH"
   },
   "source": [
    "**Dihedrals**"
   ]
  },
  {
   "cell_type": "code",
   "execution_count": null,
   "metadata": {
    "executionInfo": {
     "elapsed": 372,
     "status": "ok",
     "timestamp": 1610631071892,
     "user": {
      "displayName": "Saeed Akbari Shandiz",
      "photoUrl": "https://lh3.googleusercontent.com/a-/AOh14Gj_ltTfyzFcj-EidKK-RDh3G-RSeGnX-lq1mmA5=s64",
      "userId": "18254360833802486461"
     },
     "user_tz": 300
    },
    "id": "LFEJ5yKp_Guf"
   },
   "outputs": [],
   "source": [
    "lines=[]\n",
    "with open('/content/drive/My Drive/Case/CatenaneStructure/peo/peoRingTol/peoRingTolDelTol1.dat') as fp:   # to read lines if atomlist after \"Atoms\"\n",
    "        for line in fp:\n",
    "            if 'Dihedrals' in line:                                         \n",
    "                for line in fp: # now you are at the lines you want\n",
    "                    if 'LAMMPS Description' in line: \n",
    "                     break \n",
    "                   \n",
    "                    line=line.rstrip()# to remove any white spaces at the end of the string                  \n",
    "                    #\n",
    "                    lines.append(line)# add the string in to the list\n",
    "                    #lines= line.split(\"space\")# for line in a pandas data frame. here it can not read our lines separetely. it reads all lines as a line so does not split it into different indexs"
   ]
  },
  {
   "cell_type": "code",
   "execution_count": null,
   "metadata": {
    "executionInfo": {
     "elapsed": 308,
     "status": "ok",
     "timestamp": 1610631080766,
     "user": {
      "displayName": "Saeed Akbari Shandiz",
      "photoUrl": "https://lh3.googleusercontent.com/a-/AOh14Gj_ltTfyzFcj-EidKK-RDh3G-RSeGnX-lq1mmA5=s64",
      "userId": "18254360833802486461"
     },
     "user_tz": 300
    },
    "id": "zCIi9-GG_JCe"
   },
   "outputs": [],
   "source": [
    "#remove empty lines from the list\n",
    "while(\"\" in lines) : \n",
    "    lines.remove(\"\") "
   ]
  },
  {
   "cell_type": "code",
   "execution_count": null,
   "metadata": {
    "colab": {
     "base_uri": "https://localhost:8080/",
     "height": 424
    },
    "executionInfo": {
     "elapsed": 1140,
     "status": "ok",
     "timestamp": 1610631083386,
     "user": {
      "displayName": "Saeed Akbari Shandiz",
      "photoUrl": "https://lh3.googleusercontent.com/a-/AOh14Gj_ltTfyzFcj-EidKK-RDh3G-RSeGnX-lq1mmA5=s64",
      "userId": "18254360833802486461"
     },
     "user_tz": 300
    },
    "id": "o9C7nQJc_rmt",
    "outputId": "087bcd31-e70e-4e91-a0e9-695bd2eef100"
   },
   "outputs": [],
   "source": [
    "df_dihedrals2=pd.DataFrame(lines, columns=['dihedralID']) # to make a data frame of pandas from the list and put bondID name on the column\n",
    "df_dihedrals2[['dihedralID','type','atomID1','atomID2','atomID3','atomID4']] = df_dihedrals2.dihedralID.str.split(expand=True,) # to split one column to multiple columns and allocate name for each column\n",
    "df_dihedrals2"
   ]
  },
  {
   "cell_type": "markdown",
   "metadata": {
    "id": "-ty-wXYVZdc2"
   },
   "source": [
    "**start from here for the deleting second toluene bc we want to work on the df which does not have the first touluene so we should start with df2**"
   ]
  },
  {
   "cell_type": "code",
   "execution_count": null,
   "metadata": {
    "colab": {
     "base_uri": "https://localhost:8080/"
    },
    "executionInfo": {
     "elapsed": 58301,
     "status": "ok",
     "timestamp": 1610631144569,
     "user": {
      "displayName": "Saeed Akbari Shandiz",
      "photoUrl": "https://lh3.googleusercontent.com/a-/AOh14Gj_ltTfyzFcj-EidKK-RDh3G-RSeGnX-lq1mmA5=s64",
      "userId": "18254360833802486461"
     },
     "user_tz": 300
    },
    "id": "FnQrEMRiXnx1",
    "outputId": "b7777944-64d1-4ba0-9a85-4438c7c47701"
   },
   "outputs": [],
   "source": [
    "# to delete rows of dihedrals for that toluene molecule\n",
    "deleted_diheds=[]\n",
    "deleted_diheds=np.zeros (df_dihedrals2.shape[0])# df.shape[0] count number of rows in the data frame pandas\n",
    "\n",
    "for i in df_dihedrals2.index:\n",
    "   for index in range (0,atmCounter): # is coorect. if atomID_arr elements are not start from 1 we still have counter which start from 1 (0 index)\n",
    "      if float(df_dihedrals2.loc[i,'atomID1']) == atomID_arr[index].astype(int) or float(df_dihedrals2.loc[i,'atomID2']) == atomID_arr[index].astype(int) or float(df_dihedrals2.loc[i,'atomID3']) == atomID_arr[index].astype(int) or float(df_dihedrals2.loc[i,'atomID4']) == atomID_arr[index].astype(int):\n",
    "        deleted_diheds[i]=i+1 #to start from 1 instead of zero bc in next step i will delete zeros so will have problem if have atom with zero index in deleted_atoms[i]\n",
    "        if deleted_diheds[i].astype(int) != 0:\n",
    "          print(i,\"  \",deleted_diheds[i].astype(int))\n",
    "  "
   ]
  },
  {
   "cell_type": "code",
   "execution_count": null,
   "metadata": {
    "colab": {
     "base_uri": "https://localhost:8080/",
     "height": 424
    },
    "executionInfo": {
     "elapsed": 881,
     "status": "ok",
     "timestamp": 1610631153220,
     "user": {
      "displayName": "Saeed Akbari Shandiz",
      "photoUrl": "https://lh3.googleusercontent.com/a-/AOh14Gj_ltTfyzFcj-EidKK-RDh3G-RSeGnX-lq1mmA5=s64",
      "userId": "18254360833802486461"
     },
     "user_tz": 300
    },
    "id": "7Bu_G0OsYQvP",
    "outputId": "6e501165-b017-42ca-8615-5fef04ffbade"
   },
   "outputs": [],
   "source": [
    "for i in df_dihedrals2.index:\n",
    "   \n",
    "      if deleted_diheds[i].astype(int) != 0:\n",
    "        \n",
    "        df_dihedrals2=df_dihedrals2.drop([i])   \n",
    "df_dihedrals2"
   ]
  },
  {
   "cell_type": "code",
   "execution_count": null,
   "metadata": {
    "colab": {
     "base_uri": "https://localhost:8080/"
    },
    "executionInfo": {
     "elapsed": 383,
     "status": "ok",
     "timestamp": 1610631155789,
     "user": {
      "displayName": "Saeed Akbari Shandiz",
      "photoUrl": "https://lh3.googleusercontent.com/a-/AOh14Gj_ltTfyzFcj-EidKK-RDh3G-RSeGnX-lq1mmA5=s64",
      "userId": "18254360833802486461"
     },
     "user_tz": 300
    },
    "id": "WJLbO5z9qUW-",
    "outputId": "812a645a-2df6-4c7d-b9d5-a4f935c10ee4"
   },
   "outputs": [],
   "source": [
    "deleted_diheds=deleted_diheds[deleted_diheds!=0] # to delete zero cells from the list(array)\n",
    "deleted_diheds.shape\n",
    "print(deleted_diheds)"
   ]
  },
  {
   "cell_type": "code",
   "execution_count": null,
   "metadata": {
    "colab": {
     "base_uri": "https://localhost:8080/"
    },
    "executionInfo": {
     "elapsed": 327,
     "status": "ok",
     "timestamp": 1610631157850,
     "user": {
      "displayName": "Saeed Akbari Shandiz",
      "photoUrl": "https://lh3.googleusercontent.com/a-/AOh14Gj_ltTfyzFcj-EidKK-RDh3G-RSeGnX-lq1mmA5=s64",
      "userId": "18254360833802486461"
     },
     "user_tz": 300
    },
    "id": "EavY1s4nrc08",
    "outputId": "abf0c2d5-85d2-4b00-aa07-2d7a3ac8cf03"
   },
   "outputs": [],
   "source": [
    "# to sort the index after deleting some of the bonds. we can use it also for sorting bond ID. so either the above code or this code can be used for sorting bonds\n",
    "df_dihedrals2['dihedralID'] = df_dihedrals2['dihedralID'].astype(int) #convert string to int\n",
    "\n",
    "df_dihedrals2=df_dihedrals2.reset_index(drop=True)# reset the index from 0 to end\n",
    "\n",
    "df_dihedrals2['dihedralID']=df_dihedrals2.index+1 # reset the bondID from 1 to end. ThankGOD!\n",
    "print(df_dihedrals2)"
   ]
  },
  {
   "cell_type": "code",
   "execution_count": null,
   "metadata": {
    "colab": {
     "base_uri": "https://localhost:8080/"
    },
    "executionInfo": {
     "elapsed": 75938,
     "status": "ok",
     "timestamp": 1610631236679,
     "user": {
      "displayName": "Saeed Akbari Shandiz",
      "photoUrl": "https://lh3.googleusercontent.com/a-/AOh14Gj_ltTfyzFcj-EidKK-RDh3G-RSeGnX-lq1mmA5=s64",
      "userId": "18254360833802486461"
     },
     "user_tz": 300
    },
    "id": "pdqwpecHgfNQ",
    "outputId": "7fd618c4-a344-44da-c206-19a3a77bbc5d"
   },
   "outputs": [],
   "source": [
    "#order atom ID1 , ID2 , ID3 and ID4 at one loop to do it faster than we did for angles with three different loops.\n",
    "df_dihedrals2.loc[:,\"atomID1\"] = df_dihedrals2.loc[:,\"atomID1\"].astype(int) #convert string to int\n",
    "df_dihedrals2.loc[:,\"atomID2\"] = df_dihedrals2.loc[:,\"atomID2\"].astype(int) #convert string to int\n",
    "df_dihedrals2.loc[:,\"atomID3\"] = df_dihedrals2.loc[:,\"atomID3\"].astype(int) #convert string to int\n",
    "df_dihedrals2.loc[:,\"atomID4\"] = df_dihedrals2.loc[:,\"atomID4\"].astype(int) #convert string to int\n",
    "\n",
    "for index in df_dihedrals2.index:\n",
    "  if (df_dihedrals2.loc[index,\"atomID1\"]) > (atomID_arr[0].astype(int)):  \n",
    "    df_dihedrals2.loc[index,\"atomID1\"] =df_dihedrals2.loc[index,\"atomID1\"]-atmCounter\n",
    "\n",
    "  if (df_dihedrals2.loc[index,\"atomID2\"]) > (atomID_arr[0].astype(int)):  \n",
    "    df_dihedrals2.loc[index,\"atomID2\"] =df_dihedrals2.loc[index,\"atomID2\"]-atmCounter \n",
    "\n",
    "  if (df_dihedrals2.loc[index,\"atomID3\"]) > (atomID_arr[0].astype(int)):  \n",
    "    df_dihedrals2.loc[index,\"atomID3\"] =df_dihedrals2.loc[index,\"atomID3\"]-atmCounter \n",
    "\n",
    "  if (df_dihedrals2.loc[index,\"atomID4\"]) > (atomID_arr[0].astype(int)):  \n",
    "    df_dihedrals2.loc[index,\"atomID4\"] =df_dihedrals2.loc[index,\"atomID4\"]-atmCounter  \n",
    "   \n",
    "print(df_dihedrals2)"
   ]
  },
  {
   "cell_type": "code",
   "execution_count": null,
   "metadata": {
    "executionInfo": {
     "elapsed": 526,
     "status": "ok",
     "timestamp": 1610631307510,
     "user": {
      "displayName": "Saeed Akbari Shandiz",
      "photoUrl": "https://lh3.googleusercontent.com/a-/AOh14Gj_ltTfyzFcj-EidKK-RDh3G-RSeGnX-lq1mmA5=s64",
      "userId": "18254360833802486461"
     },
     "user_tz": 300
    },
    "id": "yxtd1mJdeNie"
   },
   "outputs": [],
   "source": [
    "# to write the new atom list from data frame (pandas) to a file\n",
    "df_dihedrals2.to_csv(r'/content/drive/My Drive/Case/CatenaneStructure/peo/peoRingTol/dihedrals2.txt', header=None, index=None, sep=' ', mode='a')"
   ]
  },
  {
   "cell_type": "code",
   "execution_count": null,
   "metadata": {
    "colab": {
     "base_uri": "https://localhost:8080/",
     "height": 424
    },
    "executionInfo": {
     "elapsed": 420,
     "status": "ok",
     "timestamp": 1607899889491,
     "user": {
      "displayName": "Saeed Akbari Shandiz",
      "photoUrl": "https://lh3.googleusercontent.com/a-/AOh14Gj_ltTfyzFcj-EidKK-RDh3G-RSeGnX-lq1mmA5=s64",
      "userId": "18254360833802486461"
     },
     "user_tz": 300
    },
    "id": "KyaWfptUHz8X",
    "outputId": "a7fc233f-46f0-4f43-a9b2-94fe3970098b"
   },
   "outputs": [],
   "source": [
    "df_dihedrals3 = df_dihedrals2\n",
    "df_dihedrals3"
   ]
  }
 ],
 "metadata": {
  "colab": {
   "authorship_tag": "ABX9TyPxnyofWmzF4ASLqTClsBFh",
   "collapsed_sections": [],
   "name": " 10*7_peoRingTolDelTolThankGOD!.ipynb",
   "provenance": [
    {
     "file_id": "1Y2TCDWpTmMnzsFxTjC7LagIeqa5dEvUl",
     "timestamp": 1610627070219
    },
    {
     "file_id": "1omklzpJOCp61siA860BLyniG3Mqwhnv4",
     "timestamp": 1609949039527
    },
    {
     "file_id": "1t1CX5h13uBss1tYZTs-Tlkt9R3H2pqXs",
     "timestamp": 1607991458818
    },
    {
     "file_id": "1q96s5-zihHIcTKU8wL2fra-ZCocRmyGS",
     "timestamp": 1607617484173
    },
    {
     "file_id": "1dgrGBPbjyrSZg6sVnTibPiKW6cSKBt1k",
     "timestamp": 1607616661298
    },
    {
     "file_id": "1hnpp45msb97zON8vNkxLe0DNAt-3mCer",
     "timestamp": 1606773179834
    },
    {
     "file_id": "1KE-00UCp-p_d47rtXo8GO5az3MIDPanh",
     "timestamp": 1606756884763
    },
    {
     "file_id": "1bU2BmxAuuBgmSrUe3lp4fVlVEHpLYT2Q",
     "timestamp": 1606262318433
    },
    {
     "file_id": "1HDgoDmTxHdR2kR8o2td6FzG5yD40cKSp",
     "timestamp": 1601475518328
    },
    {
     "file_id": "1UieiDGMfQauK2aBRdjDxboVhZSiaX8sl",
     "timestamp": 1600536761078
    },
    {
     "file_id": "17KCClRej3a4-OD4Cg9U2XSx4kvWjoWkk",
     "timestamp": 1600381257538
    },
    {
     "file_id": "1S-oclbL2it4WP1IM1QpOAb1LGSgX748S",
     "timestamp": 1600186671563
    },
    {
     "file_id": "1hbJhDksLTPbUD3Q44zrjo3pZT348LQah",
     "timestamp": 1600122587064
    },
    {
     "file_id": "1MqwS2Es_nDF_E0Ith2m8HIItDH41gFZ3",
     "timestamp": 1600118428578
    }
   ]
  },
  "kernelspec": {
   "display_name": "Python 3",
   "language": "python",
   "name": "python3"
  },
  "language_info": {
   "codemirror_mode": {
    "name": "ipython",
    "version": 3
   },
   "file_extension": ".py",
   "mimetype": "text/x-python",
   "name": "python",
   "nbconvert_exporter": "python",
   "pygments_lexer": "ipython3",
   "version": "3.7.3"
  }
 },
 "nbformat": 4,
 "nbformat_minor": 1
}
