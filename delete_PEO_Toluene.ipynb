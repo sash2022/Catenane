{
 "cells": [
  {
   "cell_type": "markdown",
   "metadata": {},
   "source": [
    "# here we first run all the atom, bond, angle and dihedral parts for deleting the first tolune molecule. then we change the deleteMolecule= to second molID and run  all atom ...parts again for deleting the second tol molecule. thankGOD! \n",
    "\n"
   ]
  },
  {
   "cell_type": "markdown",
   "metadata": {},
   "source": [
    "# first I delete the first tol and then for second tol we read peoLinTolDelTol1 and modify the tol molID bc in this new data file after deleting the first tol the molID of tol will shift one number"
   ]
  },
  {
   "cell_type": "code",
   "execution_count": 349,
   "metadata": {
    "executionInfo": {
     "elapsed": 334,
     "status": "ok",
     "timestamp": 1610627217651,
     "user": {
      "displayName": "Saeed Akbari Shandiz",
      "photoUrl": "https://lh3.googleusercontent.com/a-/AOh14Gj_ltTfyzFcj-EidKK-RDh3G-RSeGnX-lq1mmA5=s64",
      "userId": "18254360833802486461"
     },
     "user_tz": 300
    },
    "id": "-2FGC2dWQ0a-"
   },
   "outputs": [],
   "source": [
    "import math\n",
    "import collections\n",
    "import sys\n",
    "import numpy as np\n",
    "import pandas as pd\n",
    "import matplotlib.pyplot as pp\n",
    "\n",
    "%matplotlib inline"
   ]
  },
  {
   "cell_type": "code",
   "execution_count": 350,
   "metadata": {
    "executionInfo": {
     "elapsed": 418,
     "status": "ok",
     "timestamp": 1610630436177,
     "user": {
      "displayName": "Saeed Akbari Shandiz",
      "photoUrl": "https://lh3.googleusercontent.com/a-/AOh14Gj_ltTfyzFcj-EidKK-RDh3G-RSeGnX-lq1mmA5=s64",
      "userId": "18254360833802486461"
     },
     "user_tz": 300
    },
    "id": "R_Qljpf-QwII"
   },
   "outputs": [],
   "source": [
    "#deletedMolecule=1858 # toluene molecule that we want to be deleted\n",
    "#deletedMolecule=1880# the molID in peoLinTol that should be deleted was 1881 but after deleting molID 1858(first tol) the number of toluenes will be one less.\n",
    "deletedMolecule=2259"
   ]
  },
  {
   "cell_type": "code",
   "execution_count": 351,
   "metadata": {
    "executionInfo": {
     "elapsed": 1105,
     "status": "ok",
     "timestamp": 1610630547494,
     "user": {
      "displayName": "Saeed Akbari Shandiz",
      "photoUrl": "https://lh3.googleusercontent.com/a-/AOh14Gj_ltTfyzFcj-EidKK-RDh3G-RSeGnX-lq1mmA5=s64",
      "userId": "18254360833802486461"
     },
     "user_tz": 300
    },
    "id": "atQhrxOKxqRH"
   },
   "outputs": [],
   "source": [
    "lines=[]\n",
    "with open(r'C:\\vmd\\delTol7\\peoLinTolDelTol5.dat') as fp:    # to read lines if atomlist after \"Atoms\"  # to read lines if atomlist after \"Atoms\"\n",
    "        for line in fp:\n",
    "            if 'Atoms' in line:                                         \n",
    "                for line in fp: # now you are at the lines you want\n",
    "                    if 'Bonds' in line: \n",
    "                     break \n",
    "                   \n",
    "                    line=line.rstrip()# to remove any white spaces at the end of the string                  \n",
    "                    #\n",
    "                    lines.append(line)# add the string in to the list\n",
    "                    #lines= line.split(\"space\")# for line in a pandas data frame. here it can not read our lines separetely. it reads all lines as a line so does not split it into different indexs"
   ]
  },
  {
   "cell_type": "code",
   "execution_count": 352,
   "metadata": {
    "executionInfo": {
     "elapsed": 583,
     "status": "ok",
     "timestamp": 1610630550836,
     "user": {
      "displayName": "Saeed Akbari Shandiz",
      "photoUrl": "https://lh3.googleusercontent.com/a-/AOh14Gj_ltTfyzFcj-EidKK-RDh3G-RSeGnX-lq1mmA5=s64",
      "userId": "18254360833802486461"
     },
     "user_tz": 300
    },
    "id": "hv6eC10-xsnn"
   },
   "outputs": [],
   "source": [
    "#remove empty lines from the list\n",
    "while(\"\" in lines) : \n",
    "    lines.remove(\"\") "
   ]
  },
  {
   "cell_type": "code",
   "execution_count": 353,
   "metadata": {
    "colab": {
     "base_uri": "https://localhost:8080/",
     "height": 424
    },
    "executionInfo": {
     "elapsed": 595,
     "status": "ok",
     "timestamp": 1610630552638,
     "user": {
      "displayName": "Saeed Akbari Shandiz",
      "photoUrl": "https://lh3.googleusercontent.com/a-/AOh14Gj_ltTfyzFcj-EidKK-RDh3G-RSeGnX-lq1mmA5=s64",
      "userId": "18254360833802486461"
     },
     "user_tz": 300
    },
    "id": "hyhe5kGBxuwu",
    "outputId": "c7dd3a26-8b24-4be7-f92d-4ae6f8dc6371"
   },
   "outputs": [
    {
     "data": {
      "text/html": [
       "<div>\n",
       "<style scoped>\n",
       "    .dataframe tbody tr th:only-of-type {\n",
       "        vertical-align: middle;\n",
       "    }\n",
       "\n",
       "    .dataframe tbody tr th {\n",
       "        vertical-align: top;\n",
       "    }\n",
       "\n",
       "    .dataframe thead th {\n",
       "        text-align: right;\n",
       "    }\n",
       "</style>\n",
       "<table border=\"1\" class=\"dataframe\">\n",
       "  <thead>\n",
       "    <tr style=\"text-align: right;\">\n",
       "      <th></th>\n",
       "      <th>atomID</th>\n",
       "      <th>molID</th>\n",
       "      <th>type</th>\n",
       "      <th>charge</th>\n",
       "      <th>x</th>\n",
       "      <th>y</th>\n",
       "      <th>z</th>\n",
       "      <th>mx</th>\n",
       "      <th>my</th>\n",
       "      <th>mz</th>\n",
       "    </tr>\n",
       "  </thead>\n",
       "  <tbody>\n",
       "    <tr>\n",
       "      <th>0</th>\n",
       "      <td>1</td>\n",
       "      <td>1</td>\n",
       "      <td>2</td>\n",
       "      <td>0.06</td>\n",
       "      <td>2.014</td>\n",
       "      <td>6.252</td>\n",
       "      <td>3.292</td>\n",
       "      <td>0</td>\n",
       "      <td>0</td>\n",
       "      <td>0</td>\n",
       "    </tr>\n",
       "    <tr>\n",
       "      <th>1</th>\n",
       "      <td>2</td>\n",
       "      <td>1</td>\n",
       "      <td>1</td>\n",
       "      <td>-0.065</td>\n",
       "      <td>2.545</td>\n",
       "      <td>5.878</td>\n",
       "      <td>2.387</td>\n",
       "      <td>0</td>\n",
       "      <td>0</td>\n",
       "      <td>0</td>\n",
       "    </tr>\n",
       "    <tr>\n",
       "      <th>2</th>\n",
       "      <td>3</td>\n",
       "      <td>1</td>\n",
       "      <td>3</td>\n",
       "      <td>-0.115</td>\n",
       "      <td>1.31</td>\n",
       "      <td>3.623</td>\n",
       "      <td>2.387</td>\n",
       "      <td>0</td>\n",
       "      <td>0</td>\n",
       "      <td>0</td>\n",
       "    </tr>\n",
       "    <tr>\n",
       "      <th>3</th>\n",
       "      <td>4</td>\n",
       "      <td>1</td>\n",
       "      <td>4</td>\n",
       "      <td>0.115</td>\n",
       "      <td>0.349</td>\n",
       "      <td>4.163</td>\n",
       "      <td>2.387</td>\n",
       "      <td>0</td>\n",
       "      <td>0</td>\n",
       "      <td>0</td>\n",
       "    </tr>\n",
       "    <tr>\n",
       "      <th>4</th>\n",
       "      <td>5</td>\n",
       "      <td>1</td>\n",
       "      <td>2</td>\n",
       "      <td>0.06</td>\n",
       "      <td>3.569</td>\n",
       "      <td>6.315</td>\n",
       "      <td>2.387</td>\n",
       "      <td>0</td>\n",
       "      <td>0</td>\n",
       "      <td>0</td>\n",
       "    </tr>\n",
       "    <tr>\n",
       "      <th>...</th>\n",
       "      <td>...</td>\n",
       "      <td>...</td>\n",
       "      <td>...</td>\n",
       "      <td>...</td>\n",
       "      <td>...</td>\n",
       "      <td>...</td>\n",
       "      <td>...</td>\n",
       "      <td>...</td>\n",
       "      <td>...</td>\n",
       "      <td>...</td>\n",
       "    </tr>\n",
       "    <tr>\n",
       "      <th>41547</th>\n",
       "      <td>41548</td>\n",
       "      <td>2802</td>\n",
       "      <td>7</td>\n",
       "      <td>0.03</td>\n",
       "      <td>74.745</td>\n",
       "      <td>60.547</td>\n",
       "      <td>44.589</td>\n",
       "      <td>0</td>\n",
       "      <td>0</td>\n",
       "      <td>0</td>\n",
       "    </tr>\n",
       "    <tr>\n",
       "      <th>41548</th>\n",
       "      <td>41549</td>\n",
       "      <td>2802</td>\n",
       "      <td>7</td>\n",
       "      <td>0.03</td>\n",
       "      <td>76.732</td>\n",
       "      <td>59.097</td>\n",
       "      <td>44.619</td>\n",
       "      <td>0</td>\n",
       "      <td>0</td>\n",
       "      <td>0</td>\n",
       "    </tr>\n",
       "    <tr>\n",
       "      <th>41549</th>\n",
       "      <td>41550</td>\n",
       "      <td>2802</td>\n",
       "      <td>7</td>\n",
       "      <td>0.03</td>\n",
       "      <td>76.007</td>\n",
       "      <td>58.02</td>\n",
       "      <td>45.891</td>\n",
       "      <td>0</td>\n",
       "      <td>0</td>\n",
       "      <td>0</td>\n",
       "    </tr>\n",
       "    <tr>\n",
       "      <th>41550</th>\n",
       "      <td>41551</td>\n",
       "      <td>2802</td>\n",
       "      <td>7</td>\n",
       "      <td>0.03</td>\n",
       "      <td>76.006</td>\n",
       "      <td>58.019</td>\n",
       "      <td>45.89</td>\n",
       "      <td>0</td>\n",
       "      <td>0</td>\n",
       "      <td>0</td>\n",
       "    </tr>\n",
       "    <tr>\n",
       "      <th>41551</th>\n",
       "      <td>41552</td>\n",
       "      <td>2802</td>\n",
       "      <td>7</td>\n",
       "      <td>0.03</td>\n",
       "      <td>76.008</td>\n",
       "      <td>58.021</td>\n",
       "      <td>45.892</td>\n",
       "      <td>0</td>\n",
       "      <td>0</td>\n",
       "      <td>0</td>\n",
       "    </tr>\n",
       "  </tbody>\n",
       "</table>\n",
       "<p>41552 rows × 10 columns</p>\n",
       "</div>"
      ],
      "text/plain": [
       "      atomID molID type  charge       x       y       z mx my mz\n",
       "0          1     1    2    0.06   2.014   6.252   3.292  0  0  0\n",
       "1          2     1    1  -0.065   2.545   5.878   2.387  0  0  0\n",
       "2          3     1    3  -0.115    1.31   3.623   2.387  0  0  0\n",
       "3          4     1    4   0.115   0.349   4.163   2.387  0  0  0\n",
       "4          5     1    2    0.06   3.569   6.315   2.387  0  0  0\n",
       "...      ...   ...  ...     ...     ...     ...     ... .. .. ..\n",
       "41547  41548  2802    7    0.03  74.745  60.547  44.589  0  0  0\n",
       "41548  41549  2802    7    0.03  76.732  59.097  44.619  0  0  0\n",
       "41549  41550  2802    7    0.03  76.007   58.02  45.891  0  0  0\n",
       "41550  41551  2802    7    0.03  76.006  58.019   45.89  0  0  0\n",
       "41551  41552  2802    7    0.03  76.008  58.021  45.892  0  0  0\n",
       "\n",
       "[41552 rows x 10 columns]"
      ]
     },
     "execution_count": 353,
     "metadata": {},
     "output_type": "execute_result"
    }
   ],
   "source": [
    "df_atom2=pd.DataFrame(lines, columns=['atomID']) # to make a data frame of pandas from the list and put atomID name on the column\n",
    "df_atom2[['atomID','molID','type','charge','x','y','z','mx','my','mz']] = df_atom2.atomID.str.split(expand=True,) # to split one column to multiple columns and allocate name for each column\n",
    "df_atom2"
   ]
  },
  {
   "cell_type": "code",
   "execution_count": 354,
   "metadata": {
    "colab": {
     "base_uri": "https://localhost:8080/"
    },
    "executionInfo": {
     "elapsed": 689,
     "status": "ok",
     "timestamp": 1610630559528,
     "user": {
      "displayName": "Saeed Akbari Shandiz",
      "photoUrl": "https://lh3.googleusercontent.com/a-/AOh14Gj_ltTfyzFcj-EidKK-RDh3G-RSeGnX-lq1mmA5=s64",
      "userId": "18254360833802486461"
     },
     "user_tz": 300
    },
    "id": "7wTvLg-NGp1z",
    "outputId": "0e4fa77b-1c31-47ee-ebdd-43071499cdea"
   },
   "outputs": [
    {
     "data": {
      "text/plain": [
       "15"
      ]
     },
     "execution_count": 354,
     "metadata": {},
     "output_type": "execute_result"
    }
   ],
   "source": [
    "#to count # of atoms for that molecule \n",
    "atmCounter=0\n",
    "\n",
    "#df['molID'] = ''.join(df['molID']) # converting list into string\n",
    "df_atom2['molID'] = df_atom2['molID'].astype(int) \n",
    "\n",
    "for index in df_atom2.index: \n",
    "  #this will just show index of lines that molID is this number and will delete them totally. Thank GOD!!!\n",
    "  if df_atom2.loc[index,'molID'] == deletedMolecule:  #---------------------------------------here I put the desired molecule number that I want to be deleted--------------------------------------------------------------------------------\n",
    "    atmCounter=atmCounter+1\n",
    "\n",
    "atmCounter"
   ]
  },
  {
   "cell_type": "code",
   "execution_count": 355,
   "metadata": {
    "colab": {
     "base_uri": "https://localhost:8080/",
     "height": 424
    },
    "executionInfo": {
     "elapsed": 979,
     "status": "ok",
     "timestamp": 1610630579036,
     "user": {
      "displayName": "Saeed Akbari Shandiz",
      "photoUrl": "https://lh3.googleusercontent.com/a-/AOh14Gj_ltTfyzFcj-EidKK-RDh3G-RSeGnX-lq1mmA5=s64",
      "userId": "18254360833802486461"
     },
     "user_tz": 300
    },
    "id": "RniksibO5njk",
    "outputId": "b4187c16-4446-4e6f-d129-29fb330ef5f1"
   },
   "outputs": [
    {
     "data": {
      "text/html": [
       "<div>\n",
       "<style scoped>\n",
       "    .dataframe tbody tr th:only-of-type {\n",
       "        vertical-align: middle;\n",
       "    }\n",
       "\n",
       "    .dataframe tbody tr th {\n",
       "        vertical-align: top;\n",
       "    }\n",
       "\n",
       "    .dataframe thead th {\n",
       "        text-align: right;\n",
       "    }\n",
       "</style>\n",
       "<table border=\"1\" class=\"dataframe\">\n",
       "  <thead>\n",
       "    <tr style=\"text-align: right;\">\n",
       "      <th></th>\n",
       "      <th>atomID</th>\n",
       "      <th>molID</th>\n",
       "      <th>type</th>\n",
       "      <th>charge</th>\n",
       "      <th>x</th>\n",
       "      <th>y</th>\n",
       "      <th>z</th>\n",
       "      <th>mx</th>\n",
       "      <th>my</th>\n",
       "      <th>mz</th>\n",
       "    </tr>\n",
       "  </thead>\n",
       "  <tbody>\n",
       "    <tr>\n",
       "      <th>0</th>\n",
       "      <td>1</td>\n",
       "      <td>1</td>\n",
       "      <td>2</td>\n",
       "      <td>0.06</td>\n",
       "      <td>2.014</td>\n",
       "      <td>6.252</td>\n",
       "      <td>3.292</td>\n",
       "      <td>0</td>\n",
       "      <td>0</td>\n",
       "      <td>0</td>\n",
       "    </tr>\n",
       "    <tr>\n",
       "      <th>1</th>\n",
       "      <td>2</td>\n",
       "      <td>1</td>\n",
       "      <td>1</td>\n",
       "      <td>-0.065</td>\n",
       "      <td>2.545</td>\n",
       "      <td>5.878</td>\n",
       "      <td>2.387</td>\n",
       "      <td>0</td>\n",
       "      <td>0</td>\n",
       "      <td>0</td>\n",
       "    </tr>\n",
       "    <tr>\n",
       "      <th>2</th>\n",
       "      <td>3</td>\n",
       "      <td>1</td>\n",
       "      <td>3</td>\n",
       "      <td>-0.115</td>\n",
       "      <td>1.31</td>\n",
       "      <td>3.623</td>\n",
       "      <td>2.387</td>\n",
       "      <td>0</td>\n",
       "      <td>0</td>\n",
       "      <td>0</td>\n",
       "    </tr>\n",
       "    <tr>\n",
       "      <th>3</th>\n",
       "      <td>4</td>\n",
       "      <td>1</td>\n",
       "      <td>4</td>\n",
       "      <td>0.115</td>\n",
       "      <td>0.349</td>\n",
       "      <td>4.163</td>\n",
       "      <td>2.387</td>\n",
       "      <td>0</td>\n",
       "      <td>0</td>\n",
       "      <td>0</td>\n",
       "    </tr>\n",
       "    <tr>\n",
       "      <th>4</th>\n",
       "      <td>5</td>\n",
       "      <td>1</td>\n",
       "      <td>2</td>\n",
       "      <td>0.06</td>\n",
       "      <td>3.569</td>\n",
       "      <td>6.315</td>\n",
       "      <td>2.387</td>\n",
       "      <td>0</td>\n",
       "      <td>0</td>\n",
       "      <td>0</td>\n",
       "    </tr>\n",
       "    <tr>\n",
       "      <th>...</th>\n",
       "      <td>...</td>\n",
       "      <td>...</td>\n",
       "      <td>...</td>\n",
       "      <td>...</td>\n",
       "      <td>...</td>\n",
       "      <td>...</td>\n",
       "      <td>...</td>\n",
       "      <td>...</td>\n",
       "      <td>...</td>\n",
       "      <td>...</td>\n",
       "    </tr>\n",
       "    <tr>\n",
       "      <th>41547</th>\n",
       "      <td>41548</td>\n",
       "      <td>2802</td>\n",
       "      <td>7</td>\n",
       "      <td>0.03</td>\n",
       "      <td>74.745</td>\n",
       "      <td>60.547</td>\n",
       "      <td>44.589</td>\n",
       "      <td>0</td>\n",
       "      <td>0</td>\n",
       "      <td>0</td>\n",
       "    </tr>\n",
       "    <tr>\n",
       "      <th>41548</th>\n",
       "      <td>41549</td>\n",
       "      <td>2802</td>\n",
       "      <td>7</td>\n",
       "      <td>0.03</td>\n",
       "      <td>76.732</td>\n",
       "      <td>59.097</td>\n",
       "      <td>44.619</td>\n",
       "      <td>0</td>\n",
       "      <td>0</td>\n",
       "      <td>0</td>\n",
       "    </tr>\n",
       "    <tr>\n",
       "      <th>41549</th>\n",
       "      <td>41550</td>\n",
       "      <td>2802</td>\n",
       "      <td>7</td>\n",
       "      <td>0.03</td>\n",
       "      <td>76.007</td>\n",
       "      <td>58.02</td>\n",
       "      <td>45.891</td>\n",
       "      <td>0</td>\n",
       "      <td>0</td>\n",
       "      <td>0</td>\n",
       "    </tr>\n",
       "    <tr>\n",
       "      <th>41550</th>\n",
       "      <td>41551</td>\n",
       "      <td>2802</td>\n",
       "      <td>7</td>\n",
       "      <td>0.03</td>\n",
       "      <td>76.006</td>\n",
       "      <td>58.019</td>\n",
       "      <td>45.89</td>\n",
       "      <td>0</td>\n",
       "      <td>0</td>\n",
       "      <td>0</td>\n",
       "    </tr>\n",
       "    <tr>\n",
       "      <th>41551</th>\n",
       "      <td>41552</td>\n",
       "      <td>2802</td>\n",
       "      <td>7</td>\n",
       "      <td>0.03</td>\n",
       "      <td>76.008</td>\n",
       "      <td>58.021</td>\n",
       "      <td>45.892</td>\n",
       "      <td>0</td>\n",
       "      <td>0</td>\n",
       "      <td>0</td>\n",
       "    </tr>\n",
       "  </tbody>\n",
       "</table>\n",
       "<p>41537 rows × 10 columns</p>\n",
       "</div>"
      ],
      "text/plain": [
       "      atomID  molID type  charge       x       y       z mx my mz\n",
       "0          1      1    2    0.06   2.014   6.252   3.292  0  0  0\n",
       "1          2      1    1  -0.065   2.545   5.878   2.387  0  0  0\n",
       "2          3      1    3  -0.115    1.31   3.623   2.387  0  0  0\n",
       "3          4      1    4   0.115   0.349   4.163   2.387  0  0  0\n",
       "4          5      1    2    0.06   3.569   6.315   2.387  0  0  0\n",
       "...      ...    ...  ...     ...     ...     ...     ... .. .. ..\n",
       "41547  41548   2802    7    0.03  74.745  60.547  44.589  0  0  0\n",
       "41548  41549   2802    7    0.03  76.732  59.097  44.619  0  0  0\n",
       "41549  41550   2802    7    0.03  76.007   58.02  45.891  0  0  0\n",
       "41550  41551   2802    7    0.03  76.006  58.019   45.89  0  0  0\n",
       "41551  41552   2802    7    0.03  76.008  58.021  45.892  0  0  0\n",
       "\n",
       "[41537 rows x 10 columns]"
      ]
     },
     "execution_count": 355,
     "metadata": {},
     "output_type": "execute_result"
    }
   ],
   "source": [
    "#this will just show index of lines that molID has this number and will delete them totally. Thank GOD!!!\n",
    "atomID_arr=[] # we need this array for use in bond list\n",
    "atomID_arr=np.zeros (df_atom2.shape[0])# df.shape[0] count number of rows in the data frame pandas\n",
    "\n",
    "df_atom2['molID'] = df_atom2['molID'].astype(int) \n",
    "for index in df_atom2.index: \n",
    "  if df_atom2.loc[index,'molID'] == deletedMolecule: \n",
    "  \n",
    "   atomID_arr[index]= df_atom2.loc[index,'atomID'] # save atom ID of atoms in the deleted molecule for  using in bond list\n",
    "   df_atom2=df_atom2.drop(index)\n",
    " \n",
    "df_atom2\n",
    "\n",
    "#atomID_arr[:]"
   ]
  },
  {
   "cell_type": "code",
   "execution_count": 356,
   "metadata": {
    "colab": {
     "base_uri": "https://localhost:8080/"
    },
    "executionInfo": {
     "elapsed": 714,
     "status": "ok",
     "timestamp": 1610630585723,
     "user": {
      "displayName": "Saeed Akbari Shandiz",
      "photoUrl": "https://lh3.googleusercontent.com/a-/AOh14Gj_ltTfyzFcj-EidKK-RDh3G-RSeGnX-lq1mmA5=s64",
      "userId": "18254360833802486461"
     },
     "user_tz": 300
    },
    "id": "0whNaxGdA_9R",
    "outputId": "348e9395-437e-44a5-a7fb-095ddbf94166"
   },
   "outputs": [
    {
     "name": "stdout",
     "output_type": "stream",
     "text": [
      "[33871. 33872. 33873. 33874. 33875. 33876. 33877. 33878. 33879. 33880.\n",
      " 33881. 33882. 33883. 33884. 33885.]\n"
     ]
    }
   ],
   "source": [
    "atomID_arr=atomID_arr[atomID_arr!=0] # to delete zero cells from the list(array)\n",
    "atomID_arr.shape\n",
    "print(atomID_arr)"
   ]
  },
  {
   "cell_type": "code",
   "execution_count": 357,
   "metadata": {
    "colab": {
     "base_uri": "https://localhost:8080/"
    },
    "executionInfo": {
     "elapsed": 7700,
     "status": "ok",
     "timestamp": 1610630601586,
     "user": {
      "displayName": "Saeed Akbari Shandiz",
      "photoUrl": "https://lh3.googleusercontent.com/a-/AOh14Gj_ltTfyzFcj-EidKK-RDh3G-RSeGnX-lq1mmA5=s64",
      "userId": "18254360833802486461"
     },
     "user_tz": 300
    },
    "id": "VSzbpFymguaw",
    "outputId": "f0b49bd4-9238-4c5a-fd79-bd91b8074253"
   },
   "outputs": [
    {
     "name": "stdout",
     "output_type": "stream",
     "text": [
      "       atomID  molID type  charge       x       y       z mx my mz\n",
      "0           1      1    2    0.06   2.014   6.252   3.292  0  0  0\n",
      "1           2      1    1  -0.065   2.545   5.878   2.387  0  0  0\n",
      "2           3      1    3  -0.115    1.31   3.623   2.387  0  0  0\n",
      "3           4      1    4   0.115   0.349   4.163   2.387  0  0  0\n",
      "4           5      1    2    0.06   3.569   6.315   2.387  0  0  0\n",
      "...       ...    ...  ...     ...     ...     ...     ... .. .. ..\n",
      "41547   41533   2802    7    0.03  74.745  60.547  44.589  0  0  0\n",
      "41548   41534   2802    7    0.03  76.732  59.097  44.619  0  0  0\n",
      "41549   41535   2802    7    0.03  76.007   58.02  45.891  0  0  0\n",
      "41550   41536   2802    7    0.03  76.006  58.019   45.89  0  0  0\n",
      "41551   41537   2802    7    0.03  76.008  58.021  45.892  0  0  0\n",
      "\n",
      "[41537 rows x 10 columns]\n"
     ]
    }
   ],
   "source": [
    "#order atom ID\n",
    "df_atom2.loc[:,\"atomID\"] = df_atom2.loc[:,\"atomID\"].astype(int) #convert string to int\n",
    "\n",
    "for index in df_atom2.index:\n",
    "  if (df_atom2.loc[index,\"atomID\"]) > (atomID_arr[0].astype(int)):\n",
    "  \n",
    "    df_atom2.loc[index,\"atomID\"] =df_atom2.loc[index,\"atomID\"]-atmCounter \n",
    "    #df.loc[df['atomID'] >atmCounter , 'atomID'] = df.loc[index,\"atomID\"]-atmCounter    #to modify the column of atomID after deleting the atoms of toluene in atom list. it is a if condition in python\n",
    "print(df_atom2)"
   ]
  },
  {
   "cell_type": "code",
   "execution_count": 358,
   "metadata": {
    "colab": {
     "base_uri": "https://localhost:8080/"
    },
    "executionInfo": {
     "elapsed": 7472,
     "status": "ok",
     "timestamp": 1610630682313,
     "user": {
      "displayName": "Saeed Akbari Shandiz",
      "photoUrl": "https://lh3.googleusercontent.com/a-/AOh14Gj_ltTfyzFcj-EidKK-RDh3G-RSeGnX-lq1mmA5=s64",
      "userId": "18254360833802486461"
     },
     "user_tz": 300
    },
    "id": "uinlw1Zfz0Pn",
    "outputId": "da5137ba-25b8-486c-d715-59fd56ab3700"
   },
   "outputs": [
    {
     "name": "stdout",
     "output_type": "stream",
     "text": [
      "       atomID  molID type  charge       x       y       z mx my mz\n",
      "0           1      1    2    0.06   2.014   6.252   3.292  0  0  0\n",
      "1           2      1    1  -0.065   2.545   5.878   2.387  0  0  0\n",
      "2           3      1    3  -0.115    1.31   3.623   2.387  0  0  0\n",
      "3           4      1    4   0.115   0.349   4.163   2.387  0  0  0\n",
      "4           5      1    2    0.06   3.569   6.315   2.387  0  0  0\n",
      "...       ...    ...  ...     ...     ...     ...     ... .. .. ..\n",
      "41547   41533   2801    7    0.03  74.745  60.547  44.589  0  0  0\n",
      "41548   41534   2801    7    0.03  76.732  59.097  44.619  0  0  0\n",
      "41549   41535   2801    7    0.03  76.007   58.02  45.891  0  0  0\n",
      "41550   41536   2801    7    0.03  76.006  58.019   45.89  0  0  0\n",
      "41551   41537   2801    7    0.03  76.008  58.021  45.892  0  0  0\n",
      "\n",
      "[41537 rows x 10 columns]\n"
     ]
    }
   ],
   "source": [
    "#order mol ID\n",
    "df_atom2.loc[:,\"molID\"] = df_atom2.loc[:,\"molID\"].astype(int) #convert string to int\n",
    "\n",
    "for index in df_atom2.index:\n",
    "  if (df_atom2.loc[index,\"molID\"]) > deletedMolecule:\n",
    "  \n",
    "    df_atom2.loc[index,\"molID\"] =df_atom2.loc[index,\"molID\"]-1 #each time 1 molecule will be deleted \n",
    "    #df.loc[df['atomID'] >atmCounter , 'atomID'] = df.loc[index,\"atomID\"]-atmCounter    #to modify the column of atomID after deleting the atoms of toluene in atom list. it is a if condition in python\n",
    "print(df_atom2)"
   ]
  },
  {
   "cell_type": "code",
   "execution_count": 361,
   "metadata": {
    "executionInfo": {
     "elapsed": 388,
     "status": "ok",
     "timestamp": 1610630699271,
     "user": {
      "displayName": "Saeed Akbari Shandiz",
      "photoUrl": "https://lh3.googleusercontent.com/a-/AOh14Gj_ltTfyzFcj-EidKK-RDh3G-RSeGnX-lq1mmA5=s64",
      "userId": "18254360833802486461"
     },
     "user_tz": 300
    },
    "id": "o6rskjnQcxxm"
   },
   "outputs": [],
   "source": [
    "# to write the new atom list from data frame (pandas) to a file\n",
    "df_atom2.to_csv(r'C:\\vmd\\delTol7\\atoms6.txt', header=None, index=None, sep=' ', mode='a')"
   ]
  },
  {
   "cell_type": "code",
   "execution_count": 360,
   "metadata": {
    "id": "JLLNNOanY7ur"
   },
   "outputs": [],
   "source": [
    "# to write what we see in screen into a file\n",
    "#original_stdout = sys.stdout # Save a reference to the original standard output\n",
    "#with open('/content/drive/My Drive/Case/CatenaneStructure/atoms.txt', 'w') as f:\n",
    "    #sys.stdout = f # Change the standard output to the file we created.\n",
    "    #print(df)\n",
    "\n",
    "    #sys.stdout = original_stdout # Reset the standard output to its original value"
   ]
  },
  {
   "cell_type": "code",
   "execution_count": 183,
   "metadata": {
    "colab": {
     "base_uri": "https://localhost:8080/",
     "height": 424
    },
    "executionInfo": {
     "elapsed": 343,
     "status": "ok",
     "timestamp": 1607894109864,
     "user": {
      "displayName": "Saeed Akbari Shandiz",
      "photoUrl": "https://lh3.googleusercontent.com/a-/AOh14Gj_ltTfyzFcj-EidKK-RDh3G-RSeGnX-lq1mmA5=s64",
      "userId": "18254360833802486461"
     },
     "user_tz": 300
    },
    "id": "mqQm2_IOEOlb",
    "outputId": "ed037ac8-17b3-4039-d732-46173a20d800"
   },
   "outputs": [],
   "source": [
    "#df_atom3=df_atom2 #after deleting first toluene molID we have df_atom2 and after deleting second toluene molID we have df_atom3 ... \n",
    "#df_atom3"
   ]
  },
  {
   "cell_type": "markdown",
   "metadata": {
    "id": "C2gcsZ3bgBBJ"
   },
   "source": [
    "# **Bond list**"
   ]
  },
  {
   "cell_type": "code",
   "execution_count": 362,
   "metadata": {
    "executionInfo": {
     "elapsed": 306,
     "status": "ok",
     "timestamp": 1610630727705,
     "user": {
      "displayName": "Saeed Akbari Shandiz",
      "photoUrl": "https://lh3.googleusercontent.com/a-/AOh14Gj_ltTfyzFcj-EidKK-RDh3G-RSeGnX-lq1mmA5=s64",
      "userId": "18254360833802486461"
     },
     "user_tz": 300
    },
    "id": "HZfXTC8dg5Xh"
   },
   "outputs": [],
   "source": [
    "lines=[]\n",
    "with open(r'C:\\vmd\\delTol7\\peoLinTolDelTol5.dat') as fp:   # to read lines if atomlist after \"Atoms\"\n",
    "        for line in fp:\n",
    "            if 'Bonds' in line:                                         \n",
    "                for line in fp: # now you are at the lines you want\n",
    "                    if 'Angles' in line: \n",
    "                     break \n",
    "                   \n",
    "                    line=line.rstrip()# to remove any white spaces at the end of the string                  \n",
    "                    #\n",
    "                    lines.append(line)# add the string in to the list\n",
    "                    #lines= line.split(\"space\")# for line in a pandas data frame. here it can not read our lines separetely. it reads all lines as a line so does not split it into different indexs"
   ]
  },
  {
   "cell_type": "code",
   "execution_count": 363,
   "metadata": {
    "executionInfo": {
     "elapsed": 425,
     "status": "ok",
     "timestamp": 1610630734434,
     "user": {
      "displayName": "Saeed Akbari Shandiz",
      "photoUrl": "https://lh3.googleusercontent.com/a-/AOh14Gj_ltTfyzFcj-EidKK-RDh3G-RSeGnX-lq1mmA5=s64",
      "userId": "18254360833802486461"
     },
     "user_tz": 300
    },
    "id": "YckkJogMhEor"
   },
   "outputs": [],
   "source": [
    "#remove empty lines from the list\n",
    "while(\"\" in lines) : \n",
    "    lines.remove(\"\") \n",
    "    "
   ]
  },
  {
   "cell_type": "code",
   "execution_count": 364,
   "metadata": {
    "colab": {
     "base_uri": "https://localhost:8080/",
     "height": 424
    },
    "executionInfo": {
     "elapsed": 589,
     "status": "ok",
     "timestamp": 1610630737600,
     "user": {
      "displayName": "Saeed Akbari Shandiz",
      "photoUrl": "https://lh3.googleusercontent.com/a-/AOh14Gj_ltTfyzFcj-EidKK-RDh3G-RSeGnX-lq1mmA5=s64",
      "userId": "18254360833802486461"
     },
     "user_tz": 300
    },
    "id": "bTlVLHJNhYvh",
    "outputId": "e918285b-8590-44a7-a3b1-3a4fb8f2cc38"
   },
   "outputs": [
    {
     "data": {
      "text/html": [
       "<div>\n",
       "<style scoped>\n",
       "    .dataframe tbody tr th:only-of-type {\n",
       "        vertical-align: middle;\n",
       "    }\n",
       "\n",
       "    .dataframe tbody tr th {\n",
       "        vertical-align: top;\n",
       "    }\n",
       "\n",
       "    .dataframe thead th {\n",
       "        text-align: right;\n",
       "    }\n",
       "</style>\n",
       "<table border=\"1\" class=\"dataframe\">\n",
       "  <thead>\n",
       "    <tr style=\"text-align: right;\">\n",
       "      <th></th>\n",
       "      <th>bondID</th>\n",
       "      <th>type</th>\n",
       "      <th>atomID1</th>\n",
       "      <th>atomID2</th>\n",
       "    </tr>\n",
       "  </thead>\n",
       "  <tbody>\n",
       "    <tr>\n",
       "      <th>0</th>\n",
       "      <td>1</td>\n",
       "      <td>1</td>\n",
       "      <td>1</td>\n",
       "      <td>2</td>\n",
       "    </tr>\n",
       "    <tr>\n",
       "      <th>1</th>\n",
       "      <td>2</td>\n",
       "      <td>4</td>\n",
       "      <td>3</td>\n",
       "      <td>4</td>\n",
       "    </tr>\n",
       "    <tr>\n",
       "      <th>2</th>\n",
       "      <td>3</td>\n",
       "      <td>1</td>\n",
       "      <td>5</td>\n",
       "      <td>2</td>\n",
       "    </tr>\n",
       "    <tr>\n",
       "      <th>3</th>\n",
       "      <td>4</td>\n",
       "      <td>2</td>\n",
       "      <td>6</td>\n",
       "      <td>2</td>\n",
       "    </tr>\n",
       "    <tr>\n",
       "      <th>4</th>\n",
       "      <td>5</td>\n",
       "      <td>3</td>\n",
       "      <td>6</td>\n",
       "      <td>3</td>\n",
       "    </tr>\n",
       "    <tr>\n",
       "      <th>...</th>\n",
       "      <td>...</td>\n",
       "      <td>...</td>\n",
       "      <td>...</td>\n",
       "      <td>...</td>\n",
       "    </tr>\n",
       "    <tr>\n",
       "      <th>41546</th>\n",
       "      <td>41547</td>\n",
       "      <td>7</td>\n",
       "      <td>41548</td>\n",
       "      <td>41545</td>\n",
       "    </tr>\n",
       "    <tr>\n",
       "      <th>41547</th>\n",
       "      <td>41548</td>\n",
       "      <td>7</td>\n",
       "      <td>41549</td>\n",
       "      <td>41546</td>\n",
       "    </tr>\n",
       "    <tr>\n",
       "      <th>41548</th>\n",
       "      <td>41549</td>\n",
       "      <td>7</td>\n",
       "      <td>41550</td>\n",
       "      <td>41546</td>\n",
       "    </tr>\n",
       "    <tr>\n",
       "      <th>41549</th>\n",
       "      <td>41550</td>\n",
       "      <td>7</td>\n",
       "      <td>41551</td>\n",
       "      <td>41546</td>\n",
       "    </tr>\n",
       "    <tr>\n",
       "      <th>41550</th>\n",
       "      <td>41551</td>\n",
       "      <td>7</td>\n",
       "      <td>41552</td>\n",
       "      <td>41545</td>\n",
       "    </tr>\n",
       "  </tbody>\n",
       "</table>\n",
       "<p>41551 rows × 4 columns</p>\n",
       "</div>"
      ],
      "text/plain": [
       "      bondID type atomID1 atomID2\n",
       "0          1    1       1       2\n",
       "1          2    4       3       4\n",
       "2          3    1       5       2\n",
       "3          4    2       6       2\n",
       "4          5    3       6       3\n",
       "...      ...  ...     ...     ...\n",
       "41546  41547    7   41548   41545\n",
       "41547  41548    7   41549   41546\n",
       "41548  41549    7   41550   41546\n",
       "41549  41550    7   41551   41546\n",
       "41550  41551    7   41552   41545\n",
       "\n",
       "[41551 rows x 4 columns]"
      ]
     },
     "execution_count": 364,
     "metadata": {},
     "output_type": "execute_result"
    }
   ],
   "source": [
    "df_bond2=pd.DataFrame(lines, columns=['bondID']) # to make a data frame of pandas from the list and put bondID name on the column\n",
    "df_bond2[['bondID','type','atomID1','atomID2']] = df_bond2.bondID.str.split(expand=True,) # to split one column to multiple columns and allocate name for each column\n",
    "df_bond2"
   ]
  },
  {
   "cell_type": "code",
   "execution_count": 365,
   "metadata": {
    "colab": {
     "base_uri": "https://localhost:8080/"
    },
    "executionInfo": {
     "elapsed": 14836,
     "status": "ok",
     "timestamp": 1610630768037,
     "user": {
      "displayName": "Saeed Akbari Shandiz",
      "photoUrl": "https://lh3.googleusercontent.com/a-/AOh14Gj_ltTfyzFcj-EidKK-RDh3G-RSeGnX-lq1mmA5=s64",
      "userId": "18254360833802486461"
     },
     "user_tz": 300
    },
    "id": "DyApBhT6hxlr",
    "outputId": "f9ff2e71-2e80-46c1-d107-5bfbc542cdbf"
   },
   "outputs": [
    {
     "name": "stdout",
     "output_type": "stream",
     "text": [
      "33870    33871    33871\n",
      "33870    33871    33871\n",
      "33871    33872    33873\n",
      "33871    33872    33873\n",
      "33872    33873    33875\n",
      "33872    33873    33875\n",
      "33873    33874    33876\n",
      "33873    33874    33876\n",
      "33874    33875    33876\n",
      "33874    33875    33876\n",
      "33875    33876    33876\n",
      "33875    33876    33876\n",
      "33876    33877    33877\n",
      "33876    33877    33877\n",
      "33877    33878    33877\n",
      "33877    33878    33877\n",
      "33878    33879    33879\n",
      "33878    33879    33879\n",
      "33879    33880    33880\n",
      "33879    33880    33880\n",
      "33880    33881    33880\n",
      "33880    33881    33880\n",
      "33881    33882    33881\n",
      "33881    33882    33881\n",
      "33882    33883    33881\n",
      "33882    33883    33881\n",
      "33883    33884    33883\n",
      "33883    33884    33883\n",
      "33884    33885    33883\n",
      "33884    33885    33883\n"
     ]
    }
   ],
   "source": [
    "#show bonds that should be deleted\n",
    "deleted_bonds=[]\n",
    "deleted_bonds=np.zeros (df_bond2.shape[0])# df.shape[0] count number of rows in the data frame pandas\n",
    "\n",
    "for i in df_bond2.index:\n",
    "   \n",
    "   for index in range (0,atmCounter): # is coorect. if atomID_arr elements are not start from 1 we still have counter which start from 1 (0 index)\n",
    "      \n",
    "      if float(df_bond2.loc[i,'atomID1']) == atomID_arr[index].astype(int) or float(df_bond2.loc[i,'atomID2']) == atomID_arr[index].astype(int):\n",
    "        deleted_bonds[i]=i+1 #to start from 1 instead of zero bc in next step i will delete zeros so will have problem if have atom with zero index in deleted_atoms[i]\n",
    "        if deleted_bonds[i].astype(int) != 0:\n",
    "          print(i,\"  \",deleted_bonds[i].astype(int),'  ',df_bond2.loc[i,'atomID1'])"
   ]
  },
  {
   "cell_type": "code",
   "execution_count": 366,
   "metadata": {
    "colab": {
     "base_uri": "https://localhost:8080/",
     "height": 424
    },
    "executionInfo": {
     "elapsed": 300,
     "status": "ok",
     "timestamp": 1610630784841,
     "user": {
      "displayName": "Saeed Akbari Shandiz",
      "photoUrl": "https://lh3.googleusercontent.com/a-/AOh14Gj_ltTfyzFcj-EidKK-RDh3G-RSeGnX-lq1mmA5=s64",
      "userId": "18254360833802486461"
     },
     "user_tz": 300
    },
    "id": "R1zotJmy1GbP",
    "outputId": "d6d9b92e-3a16-4413-9076-34b93a73de52"
   },
   "outputs": [
    {
     "data": {
      "text/html": [
       "<div>\n",
       "<style scoped>\n",
       "    .dataframe tbody tr th:only-of-type {\n",
       "        vertical-align: middle;\n",
       "    }\n",
       "\n",
       "    .dataframe tbody tr th {\n",
       "        vertical-align: top;\n",
       "    }\n",
       "\n",
       "    .dataframe thead th {\n",
       "        text-align: right;\n",
       "    }\n",
       "</style>\n",
       "<table border=\"1\" class=\"dataframe\">\n",
       "  <thead>\n",
       "    <tr style=\"text-align: right;\">\n",
       "      <th></th>\n",
       "      <th>bondID</th>\n",
       "      <th>type</th>\n",
       "      <th>atomID1</th>\n",
       "      <th>atomID2</th>\n",
       "    </tr>\n",
       "  </thead>\n",
       "  <tbody>\n",
       "    <tr>\n",
       "      <th>0</th>\n",
       "      <td>1</td>\n",
       "      <td>1</td>\n",
       "      <td>1</td>\n",
       "      <td>2</td>\n",
       "    </tr>\n",
       "    <tr>\n",
       "      <th>1</th>\n",
       "      <td>2</td>\n",
       "      <td>4</td>\n",
       "      <td>3</td>\n",
       "      <td>4</td>\n",
       "    </tr>\n",
       "    <tr>\n",
       "      <th>2</th>\n",
       "      <td>3</td>\n",
       "      <td>1</td>\n",
       "      <td>5</td>\n",
       "      <td>2</td>\n",
       "    </tr>\n",
       "    <tr>\n",
       "      <th>3</th>\n",
       "      <td>4</td>\n",
       "      <td>2</td>\n",
       "      <td>6</td>\n",
       "      <td>2</td>\n",
       "    </tr>\n",
       "    <tr>\n",
       "      <th>4</th>\n",
       "      <td>5</td>\n",
       "      <td>3</td>\n",
       "      <td>6</td>\n",
       "      <td>3</td>\n",
       "    </tr>\n",
       "    <tr>\n",
       "      <th>...</th>\n",
       "      <td>...</td>\n",
       "      <td>...</td>\n",
       "      <td>...</td>\n",
       "      <td>...</td>\n",
       "    </tr>\n",
       "    <tr>\n",
       "      <th>41546</th>\n",
       "      <td>41547</td>\n",
       "      <td>7</td>\n",
       "      <td>41548</td>\n",
       "      <td>41545</td>\n",
       "    </tr>\n",
       "    <tr>\n",
       "      <th>41547</th>\n",
       "      <td>41548</td>\n",
       "      <td>7</td>\n",
       "      <td>41549</td>\n",
       "      <td>41546</td>\n",
       "    </tr>\n",
       "    <tr>\n",
       "      <th>41548</th>\n",
       "      <td>41549</td>\n",
       "      <td>7</td>\n",
       "      <td>41550</td>\n",
       "      <td>41546</td>\n",
       "    </tr>\n",
       "    <tr>\n",
       "      <th>41549</th>\n",
       "      <td>41550</td>\n",
       "      <td>7</td>\n",
       "      <td>41551</td>\n",
       "      <td>41546</td>\n",
       "    </tr>\n",
       "    <tr>\n",
       "      <th>41550</th>\n",
       "      <td>41551</td>\n",
       "      <td>7</td>\n",
       "      <td>41552</td>\n",
       "      <td>41545</td>\n",
       "    </tr>\n",
       "  </tbody>\n",
       "</table>\n",
       "<p>41551 rows × 4 columns</p>\n",
       "</div>"
      ],
      "text/plain": [
       "      bondID type  atomID1 atomID2\n",
       "0          1    1        1       2\n",
       "1          2    4        3       4\n",
       "2          3    1        5       2\n",
       "3          4    2        6       2\n",
       "4          5    3        6       3\n",
       "...      ...  ...      ...     ...\n",
       "41546  41547    7    41548   41545\n",
       "41547  41548    7    41549   41546\n",
       "41548  41549    7    41550   41546\n",
       "41549  41550    7    41551   41546\n",
       "41550  41551    7    41552   41545\n",
       "\n",
       "[41551 rows x 4 columns]"
      ]
     },
     "execution_count": 366,
     "metadata": {},
     "output_type": "execute_result"
    }
   ],
   "source": [
    "#sort the atomID1 to put bonds in order based of one of atomIDs\n",
    "df_bond2.loc[:,\"atomID1\"]= df_bond2.loc[:,\"atomID1\"].astype(int) # the atomID column is a string and we should convert it to int\n",
    "\n",
    "df_bond2.sort_values(by=['atomID1'], inplace=True) # to put the atomID in order\n",
    "df_bond2"
   ]
  },
  {
   "cell_type": "code",
   "execution_count": 367,
   "metadata": {
    "colab": {
     "base_uri": "https://localhost:8080/",
     "height": 424
    },
    "executionInfo": {
     "elapsed": 489,
     "status": "ok",
     "timestamp": 1610630788266,
     "user": {
      "displayName": "Saeed Akbari Shandiz",
      "photoUrl": "https://lh3.googleusercontent.com/a-/AOh14Gj_ltTfyzFcj-EidKK-RDh3G-RSeGnX-lq1mmA5=s64",
      "userId": "18254360833802486461"
     },
     "user_tz": 300
    },
    "id": "6MpPCPpF-DSF",
    "outputId": "31346efd-c772-4a8a-9b84-75051ed26f3e"
   },
   "outputs": [
    {
     "data": {
      "text/html": [
       "<div>\n",
       "<style scoped>\n",
       "    .dataframe tbody tr th:only-of-type {\n",
       "        vertical-align: middle;\n",
       "    }\n",
       "\n",
       "    .dataframe tbody tr th {\n",
       "        vertical-align: top;\n",
       "    }\n",
       "\n",
       "    .dataframe thead th {\n",
       "        text-align: right;\n",
       "    }\n",
       "</style>\n",
       "<table border=\"1\" class=\"dataframe\">\n",
       "  <thead>\n",
       "    <tr style=\"text-align: right;\">\n",
       "      <th></th>\n",
       "      <th>bondID</th>\n",
       "      <th>type</th>\n",
       "      <th>atomID1</th>\n",
       "      <th>atomID2</th>\n",
       "    </tr>\n",
       "  </thead>\n",
       "  <tbody>\n",
       "    <tr>\n",
       "      <th>0</th>\n",
       "      <td>1</td>\n",
       "      <td>1</td>\n",
       "      <td>1</td>\n",
       "      <td>2</td>\n",
       "    </tr>\n",
       "    <tr>\n",
       "      <th>1</th>\n",
       "      <td>2</td>\n",
       "      <td>4</td>\n",
       "      <td>3</td>\n",
       "      <td>4</td>\n",
       "    </tr>\n",
       "    <tr>\n",
       "      <th>2</th>\n",
       "      <td>3</td>\n",
       "      <td>1</td>\n",
       "      <td>5</td>\n",
       "      <td>2</td>\n",
       "    </tr>\n",
       "    <tr>\n",
       "      <th>3</th>\n",
       "      <td>4</td>\n",
       "      <td>2</td>\n",
       "      <td>6</td>\n",
       "      <td>2</td>\n",
       "    </tr>\n",
       "    <tr>\n",
       "      <th>4</th>\n",
       "      <td>5</td>\n",
       "      <td>3</td>\n",
       "      <td>6</td>\n",
       "      <td>3</td>\n",
       "    </tr>\n",
       "    <tr>\n",
       "      <th>...</th>\n",
       "      <td>...</td>\n",
       "      <td>...</td>\n",
       "      <td>...</td>\n",
       "      <td>...</td>\n",
       "    </tr>\n",
       "    <tr>\n",
       "      <th>41546</th>\n",
       "      <td>41547</td>\n",
       "      <td>7</td>\n",
       "      <td>41548</td>\n",
       "      <td>41545</td>\n",
       "    </tr>\n",
       "    <tr>\n",
       "      <th>41547</th>\n",
       "      <td>41548</td>\n",
       "      <td>7</td>\n",
       "      <td>41549</td>\n",
       "      <td>41546</td>\n",
       "    </tr>\n",
       "    <tr>\n",
       "      <th>41548</th>\n",
       "      <td>41549</td>\n",
       "      <td>7</td>\n",
       "      <td>41550</td>\n",
       "      <td>41546</td>\n",
       "    </tr>\n",
       "    <tr>\n",
       "      <th>41549</th>\n",
       "      <td>41550</td>\n",
       "      <td>7</td>\n",
       "      <td>41551</td>\n",
       "      <td>41546</td>\n",
       "    </tr>\n",
       "    <tr>\n",
       "      <th>41550</th>\n",
       "      <td>41551</td>\n",
       "      <td>7</td>\n",
       "      <td>41552</td>\n",
       "      <td>41545</td>\n",
       "    </tr>\n",
       "  </tbody>\n",
       "</table>\n",
       "<p>41536 rows × 4 columns</p>\n",
       "</div>"
      ],
      "text/plain": [
       "      bondID type  atomID1  atomID2\n",
       "0          1    1        1        2\n",
       "1          2    4        3        4\n",
       "2          3    1        5        2\n",
       "3          4    2        6        2\n",
       "4          5    3        6        3\n",
       "...      ...  ...      ...      ...\n",
       "41546  41547    7    41548    41545\n",
       "41547  41548    7    41549    41546\n",
       "41548  41549    7    41550    41546\n",
       "41549  41550    7    41551    41546\n",
       "41550  41551    7    41552    41545\n",
       "\n",
       "[41536 rows x 4 columns]"
      ]
     },
     "execution_count": 367,
     "metadata": {},
     "output_type": "execute_result"
    }
   ],
   "source": [
    "#delete the bonds\n",
    "\n",
    "df_bond2.loc[:,\"atomID1\"] = df_bond2.loc[:,\"atomID1\"].astype(int) #convert string to int\n",
    "df_bond2.loc[:,\"atomID2\"] = df_bond2.loc[:,\"atomID2\"].astype(int) #convert string to int\n",
    "deleted_count=0\n",
    "deleted_count_array=np.zeros(df_bond2.shape[0])\n",
    "\n",
    "for i in df_bond2.index:\n",
    "      #print(deleted_count)\n",
    "      deleted_count_array[i] = deleted_count\n",
    "\n",
    "      if deleted_bonds[i].astype(int) != 0:\n",
    "        deleted_count+=1\n",
    "        \n",
    "        df_bond2=df_bond2.drop([i])   # delete the bond\n",
    "   \n",
    "df_bond2"
   ]
  },
  {
   "cell_type": "code",
   "execution_count": 368,
   "metadata": {
    "colab": {
     "base_uri": "https://localhost:8080/"
    },
    "executionInfo": {
     "elapsed": 293,
     "status": "ok",
     "timestamp": 1610630795650,
     "user": {
      "displayName": "Saeed Akbari Shandiz",
      "photoUrl": "https://lh3.googleusercontent.com/a-/AOh14Gj_ltTfyzFcj-EidKK-RDh3G-RSeGnX-lq1mmA5=s64",
      "userId": "18254360833802486461"
     },
     "user_tz": 300
    },
    "id": "fGybGAxK_Ffk",
    "outputId": "d2a8538c-eda7-47e0-a8ea-612d70a7c203"
   },
   "outputs": [
    {
     "data": {
      "text/plain": [
       "array([ 0.,  0.,  0., ..., 15., 15., 15.])"
      ]
     },
     "execution_count": 368,
     "metadata": {},
     "output_type": "execute_result"
    }
   ],
   "source": [
    "deleted_count_array"
   ]
  },
  {
   "cell_type": "code",
   "execution_count": 369,
   "metadata": {
    "colab": {
     "base_uri": "https://localhost:8080/"
    },
    "executionInfo": {
     "elapsed": 465,
     "status": "ok",
     "timestamp": 1610630810908,
     "user": {
      "displayName": "Saeed Akbari Shandiz",
      "photoUrl": "https://lh3.googleusercontent.com/a-/AOh14Gj_ltTfyzFcj-EidKK-RDh3G-RSeGnX-lq1mmA5=s64",
      "userId": "18254360833802486461"
     },
     "user_tz": 300
    },
    "id": "R5aPhqwXjDNO",
    "outputId": "bb1716fc-79c3-4fe1-f665-85dc1cc5fe15"
   },
   "outputs": [
    {
     "data": {
      "text/plain": [
       "33871"
      ]
     },
     "execution_count": 369,
     "metadata": {},
     "output_type": "execute_result"
    }
   ],
   "source": [
    "atomID_arr[0].astype(int)"
   ]
  },
  {
   "cell_type": "code",
   "execution_count": 370,
   "metadata": {
    "colab": {
     "base_uri": "https://localhost:8080/",
     "height": 424
    },
    "executionInfo": {
     "elapsed": 14404,
     "status": "ok",
     "timestamp": 1610630826764,
     "user": {
      "displayName": "Saeed Akbari Shandiz",
      "photoUrl": "https://lh3.googleusercontent.com/a-/AOh14Gj_ltTfyzFcj-EidKK-RDh3G-RSeGnX-lq1mmA5=s64",
      "userId": "18254360833802486461"
     },
     "user_tz": 300
    },
    "id": "oAunBsgZBHJO",
    "outputId": "e416ebdb-4df4-48a6-9b98-2cd04fb2c7cd"
   },
   "outputs": [
    {
     "data": {
      "text/html": [
       "<div>\n",
       "<style scoped>\n",
       "    .dataframe tbody tr th:only-of-type {\n",
       "        vertical-align: middle;\n",
       "    }\n",
       "\n",
       "    .dataframe tbody tr th {\n",
       "        vertical-align: top;\n",
       "    }\n",
       "\n",
       "    .dataframe thead th {\n",
       "        text-align: right;\n",
       "    }\n",
       "</style>\n",
       "<table border=\"1\" class=\"dataframe\">\n",
       "  <thead>\n",
       "    <tr style=\"text-align: right;\">\n",
       "      <th></th>\n",
       "      <th>bondID</th>\n",
       "      <th>type</th>\n",
       "      <th>atomID1</th>\n",
       "      <th>atomID2</th>\n",
       "    </tr>\n",
       "  </thead>\n",
       "  <tbody>\n",
       "    <tr>\n",
       "      <th>0</th>\n",
       "      <td>1</td>\n",
       "      <td>1</td>\n",
       "      <td>1</td>\n",
       "      <td>2</td>\n",
       "    </tr>\n",
       "    <tr>\n",
       "      <th>1</th>\n",
       "      <td>2</td>\n",
       "      <td>4</td>\n",
       "      <td>3</td>\n",
       "      <td>4</td>\n",
       "    </tr>\n",
       "    <tr>\n",
       "      <th>2</th>\n",
       "      <td>3</td>\n",
       "      <td>1</td>\n",
       "      <td>5</td>\n",
       "      <td>2</td>\n",
       "    </tr>\n",
       "    <tr>\n",
       "      <th>3</th>\n",
       "      <td>4</td>\n",
       "      <td>2</td>\n",
       "      <td>6</td>\n",
       "      <td>2</td>\n",
       "    </tr>\n",
       "    <tr>\n",
       "      <th>4</th>\n",
       "      <td>5</td>\n",
       "      <td>3</td>\n",
       "      <td>6</td>\n",
       "      <td>3</td>\n",
       "    </tr>\n",
       "    <tr>\n",
       "      <th>...</th>\n",
       "      <td>...</td>\n",
       "      <td>...</td>\n",
       "      <td>...</td>\n",
       "      <td>...</td>\n",
       "    </tr>\n",
       "    <tr>\n",
       "      <th>41546</th>\n",
       "      <td>41547</td>\n",
       "      <td>7</td>\n",
       "      <td>41533</td>\n",
       "      <td>41530</td>\n",
       "    </tr>\n",
       "    <tr>\n",
       "      <th>41547</th>\n",
       "      <td>41548</td>\n",
       "      <td>7</td>\n",
       "      <td>41534</td>\n",
       "      <td>41531</td>\n",
       "    </tr>\n",
       "    <tr>\n",
       "      <th>41548</th>\n",
       "      <td>41549</td>\n",
       "      <td>7</td>\n",
       "      <td>41535</td>\n",
       "      <td>41531</td>\n",
       "    </tr>\n",
       "    <tr>\n",
       "      <th>41549</th>\n",
       "      <td>41550</td>\n",
       "      <td>7</td>\n",
       "      <td>41536</td>\n",
       "      <td>41531</td>\n",
       "    </tr>\n",
       "    <tr>\n",
       "      <th>41550</th>\n",
       "      <td>41551</td>\n",
       "      <td>7</td>\n",
       "      <td>41537</td>\n",
       "      <td>41530</td>\n",
       "    </tr>\n",
       "  </tbody>\n",
       "</table>\n",
       "<p>41536 rows × 4 columns</p>\n",
       "</div>"
      ],
      "text/plain": [
       "      bondID type  atomID1  atomID2\n",
       "0          1    1        1        2\n",
       "1          2    4        3        4\n",
       "2          3    1        5        2\n",
       "3          4    2        6        2\n",
       "4          5    3        6        3\n",
       "...      ...  ...      ...      ...\n",
       "41546  41547    7    41533    41530\n",
       "41547  41548    7    41534    41531\n",
       "41548  41549    7    41535    41531\n",
       "41549  41550    7    41536    41531\n",
       "41550  41551    7    41537    41530\n",
       "\n",
       "[41536 rows x 4 columns]"
      ]
     },
     "execution_count": 370,
     "metadata": {},
     "output_type": "execute_result"
    }
   ],
   "source": [
    "#fix the order of atomID1 and atomId2\n",
    "for i in df_bond2.index:\n",
    "  if (df_bond2.loc[i,\"atomID1\"]) > (atomID_arr[0].astype(int)):\n",
    "     df_bond2.loc[i,\"atomID1\"] =df_bond2.loc[i,\"atomID1\"]-deleted_count_array[i].astype(int)\n",
    "     df_bond2.loc[i,\"atomID2\"] =df_bond2.loc[i,\"atomID2\"]-deleted_count_array[i].astype(int)\n",
    "\n",
    "df_bond2"
   ]
  },
  {
   "cell_type": "code",
   "execution_count": 371,
   "metadata": {
    "colab": {
     "base_uri": "https://localhost:8080/"
    },
    "executionInfo": {
     "elapsed": 337,
     "status": "ok",
     "timestamp": 1610630852930,
     "user": {
      "displayName": "Saeed Akbari Shandiz",
      "photoUrl": "https://lh3.googleusercontent.com/a-/AOh14Gj_ltTfyzFcj-EidKK-RDh3G-RSeGnX-lq1mmA5=s64",
      "userId": "18254360833802486461"
     },
     "user_tz": 300
    },
    "id": "8Ltzr0ukMSfi",
    "outputId": "56a5e7d7-0501-4b8c-e6e1-458db4786e53"
   },
   "outputs": [
    {
     "name": "stdout",
     "output_type": "stream",
     "text": [
      "[33871. 33872. 33873. 33874. 33875. 33876. 33877. 33878. 33879. 33880.\n",
      " 33881. 33882. 33883. 33884. 33885.]\n"
     ]
    }
   ],
   "source": [
    "deleted_bonds=deleted_bonds[deleted_bonds!=0] # to delete zero cells from the list(array)\n",
    "deleted_bonds.shape\n",
    "print(deleted_bonds)"
   ]
  },
  {
   "cell_type": "code",
   "execution_count": 372,
   "metadata": {
    "colab": {
     "base_uri": "https://localhost:8080/"
    },
    "executionInfo": {
     "elapsed": 456,
     "status": "ok",
     "timestamp": 1610630855367,
     "user": {
      "displayName": "Saeed Akbari Shandiz",
      "photoUrl": "https://lh3.googleusercontent.com/a-/AOh14Gj_ltTfyzFcj-EidKK-RDh3G-RSeGnX-lq1mmA5=s64",
      "userId": "18254360833802486461"
     },
     "user_tz": 300
    },
    "id": "_dUl4eqNw1O1",
    "outputId": "536d086f-77a9-4348-dfed-1b7060bfd36f"
   },
   "outputs": [
    {
     "name": "stdout",
     "output_type": "stream",
     "text": [
      "       bondID type  atomID1  atomID2\n",
      "0           1    1        1        2\n",
      "1           2    4        3        4\n",
      "2           3    1        5        2\n",
      "3           4    2        6        2\n",
      "4           5    3        6        3\n",
      "...       ...  ...      ...      ...\n",
      "41531   41532    7    41533    41530\n",
      "41532   41533    7    41534    41531\n",
      "41533   41534    7    41535    41531\n",
      "41534   41535    7    41536    41531\n",
      "41535   41536    7    41537    41530\n",
      "\n",
      "[41536 rows x 4 columns]\n"
     ]
    }
   ],
   "source": [
    "# to sort the index after deleting some of the bonds. we can use it also for sorting bond ID. so either the above code or this code can be used for sorting bonds\n",
    "df_bond2['bondID'] = df_bond2['bondID'].astype(int) #convert string to int\n",
    "\n",
    "df_bond2=df_bond2.reset_index(drop=True)# reset the index from 0 to end\n",
    "\n",
    "df_bond2['bondID']=df_bond2.index+1 # reset the bondID from 1 to end. ThankGOD!\n",
    "print(df_bond2)"
   ]
  },
  {
   "cell_type": "code",
   "execution_count": 373,
   "metadata": {
    "executionInfo": {
     "elapsed": 314,
     "status": "ok",
     "timestamp": 1610630862223,
     "user": {
      "displayName": "Saeed Akbari Shandiz",
      "photoUrl": "https://lh3.googleusercontent.com/a-/AOh14Gj_ltTfyzFcj-EidKK-RDh3G-RSeGnX-lq1mmA5=s64",
      "userId": "18254360833802486461"
     },
     "user_tz": 300
    },
    "id": "fj6kBpqZd_UA"
   },
   "outputs": [],
   "source": [
    "# to write the new atom list from data frame (pandas) to a file\n",
    "df_bond2.to_csv(r'C:\\vmd\\delTol7\\bond6.txt', header=None, index=None, sep=' ', mode='a')\n"
   ]
  },
  {
   "cell_type": "code",
   "execution_count": 243,
   "metadata": {
    "colab": {
     "base_uri": "https://localhost:8080/",
     "height": 424
    },
    "executionInfo": {
     "elapsed": 301,
     "status": "ok",
     "timestamp": 1607897331028,
     "user": {
      "displayName": "Saeed Akbari Shandiz",
      "photoUrl": "https://lh3.googleusercontent.com/a-/AOh14Gj_ltTfyzFcj-EidKK-RDh3G-RSeGnX-lq1mmA5=s64",
      "userId": "18254360833802486461"
     },
     "user_tz": 300
    },
    "id": "MtKqWerU8dn9",
    "outputId": "145d9e57-b601-433f-b4f2-f3d9115be3c7"
   },
   "outputs": [],
   "source": [
    "#df_bond3=df_bond2\n",
    "#df_bond3"
   ]
  },
  {
   "cell_type": "markdown",
   "metadata": {
    "id": "iabz0Y804wgj"
   },
   "source": [
    "# **Angle list**"
   ]
  },
  {
   "cell_type": "code",
   "execution_count": 374,
   "metadata": {
    "executionInfo": {
     "elapsed": 308,
     "status": "ok",
     "timestamp": 1610630873874,
     "user": {
      "displayName": "Saeed Akbari Shandiz",
      "photoUrl": "https://lh3.googleusercontent.com/a-/AOh14Gj_ltTfyzFcj-EidKK-RDh3G-RSeGnX-lq1mmA5=s64",
      "userId": "18254360833802486461"
     },
     "user_tz": 300
    },
    "id": "rC_oBQPQ47FL"
   },
   "outputs": [],
   "source": [
    "lines=[]\n",
    "with open(r'C:\\vmd\\delTol7\\peoLinTolDelTol5.dat') as fp:   # to read lines if atomlist after \"Atoms\"\n",
    "        for line in fp:\n",
    "            if 'Angles' in line:                                         \n",
    "                for line in fp: # now you are at the lines you want\n",
    "                    if 'Dihedrals' in line: \n",
    "                     break \n",
    "                   \n",
    "                    line=line.rstrip()# to remove any white spaces at the end of the string                  \n",
    "                    #\n",
    "                    lines.append(line)# add the string in to the list\n",
    "                    #lines= line.split(\"space\")# for line in a pandas data frame. here it can not read our lines separetely. it reads all lines as a line so does not split it into different indexs"
   ]
  },
  {
   "cell_type": "code",
   "execution_count": 375,
   "metadata": {
    "executionInfo": {
     "elapsed": 350,
     "status": "ok",
     "timestamp": 1610630877886,
     "user": {
      "displayName": "Saeed Akbari Shandiz",
      "photoUrl": "https://lh3.googleusercontent.com/a-/AOh14Gj_ltTfyzFcj-EidKK-RDh3G-RSeGnX-lq1mmA5=s64",
      "userId": "18254360833802486461"
     },
     "user_tz": 300
    },
    "id": "j5vT7Srx5Ir6"
   },
   "outputs": [],
   "source": [
    "#remove empty lines from the list\n",
    "while(\"\" in lines) : \n",
    "    lines.remove(\"\") "
   ]
  },
  {
   "cell_type": "code",
   "execution_count": 376,
   "metadata": {
    "colab": {
     "base_uri": "https://localhost:8080/",
     "height": 424
    },
    "executionInfo": {
     "elapsed": 542,
     "status": "ok",
     "timestamp": 1610630879356,
     "user": {
      "displayName": "Saeed Akbari Shandiz",
      "photoUrl": "https://lh3.googleusercontent.com/a-/AOh14Gj_ltTfyzFcj-EidKK-RDh3G-RSeGnX-lq1mmA5=s64",
      "userId": "18254360833802486461"
     },
     "user_tz": 300
    },
    "id": "ujOYkRle5R94",
    "outputId": "ba1c89b5-34da-41d7-fdd4-3844db03c711"
   },
   "outputs": [
    {
     "data": {
      "text/html": [
       "<div>\n",
       "<style scoped>\n",
       "    .dataframe tbody tr th:only-of-type {\n",
       "        vertical-align: middle;\n",
       "    }\n",
       "\n",
       "    .dataframe tbody tr th {\n",
       "        vertical-align: top;\n",
       "    }\n",
       "\n",
       "    .dataframe thead th {\n",
       "        text-align: right;\n",
       "    }\n",
       "</style>\n",
       "<table border=\"1\" class=\"dataframe\">\n",
       "  <thead>\n",
       "    <tr style=\"text-align: right;\">\n",
       "      <th></th>\n",
       "      <th>angleID</th>\n",
       "      <th>type</th>\n",
       "      <th>atomID1</th>\n",
       "      <th>atomID2</th>\n",
       "      <th>atomID3</th>\n",
       "    </tr>\n",
       "  </thead>\n",
       "  <tbody>\n",
       "    <tr>\n",
       "      <th>0</th>\n",
       "      <td>1</td>\n",
       "      <td>1</td>\n",
       "      <td>1</td>\n",
       "      <td>2</td>\n",
       "      <td>5</td>\n",
       "    </tr>\n",
       "    <tr>\n",
       "      <th>1</th>\n",
       "      <td>2</td>\n",
       "      <td>1</td>\n",
       "      <td>1</td>\n",
       "      <td>2</td>\n",
       "      <td>9</td>\n",
       "    </tr>\n",
       "    <tr>\n",
       "      <th>2</th>\n",
       "      <td>3</td>\n",
       "      <td>2</td>\n",
       "      <td>1</td>\n",
       "      <td>2</td>\n",
       "      <td>6</td>\n",
       "    </tr>\n",
       "    <tr>\n",
       "      <th>3</th>\n",
       "      <td>4</td>\n",
       "      <td>1</td>\n",
       "      <td>5</td>\n",
       "      <td>2</td>\n",
       "      <td>9</td>\n",
       "    </tr>\n",
       "    <tr>\n",
       "      <th>4</th>\n",
       "      <td>5</td>\n",
       "      <td>2</td>\n",
       "      <td>5</td>\n",
       "      <td>2</td>\n",
       "      <td>6</td>\n",
       "    </tr>\n",
       "    <tr>\n",
       "      <th>...</th>\n",
       "      <td>...</td>\n",
       "      <td>...</td>\n",
       "      <td>...</td>\n",
       "      <td>...</td>\n",
       "      <td>...</td>\n",
       "    </tr>\n",
       "    <tr>\n",
       "      <th>66583</th>\n",
       "      <td>66584</td>\n",
       "      <td>10</td>\n",
       "      <td>41547</td>\n",
       "      <td>41545</td>\n",
       "      <td>41552</td>\n",
       "    </tr>\n",
       "    <tr>\n",
       "      <th>66584</th>\n",
       "      <td>66585</td>\n",
       "      <td>10</td>\n",
       "      <td>41548</td>\n",
       "      <td>41545</td>\n",
       "      <td>41552</td>\n",
       "    </tr>\n",
       "    <tr>\n",
       "      <th>66585</th>\n",
       "      <td>66586</td>\n",
       "      <td>10</td>\n",
       "      <td>41549</td>\n",
       "      <td>41546</td>\n",
       "      <td>41550</td>\n",
       "    </tr>\n",
       "    <tr>\n",
       "      <th>66586</th>\n",
       "      <td>66587</td>\n",
       "      <td>10</td>\n",
       "      <td>41549</td>\n",
       "      <td>41546</td>\n",
       "      <td>41551</td>\n",
       "    </tr>\n",
       "    <tr>\n",
       "      <th>66587</th>\n",
       "      <td>66588</td>\n",
       "      <td>10</td>\n",
       "      <td>41550</td>\n",
       "      <td>41546</td>\n",
       "      <td>41551</td>\n",
       "    </tr>\n",
       "  </tbody>\n",
       "</table>\n",
       "<p>66588 rows × 5 columns</p>\n",
       "</div>"
      ],
      "text/plain": [
       "      angleID type atomID1 atomID2 atomID3\n",
       "0           1    1       1       2       5\n",
       "1           2    1       1       2       9\n",
       "2           3    2       1       2       6\n",
       "3           4    1       5       2       9\n",
       "4           5    2       5       2       6\n",
       "...       ...  ...     ...     ...     ...\n",
       "66583   66584   10   41547   41545   41552\n",
       "66584   66585   10   41548   41545   41552\n",
       "66585   66586   10   41549   41546   41550\n",
       "66586   66587   10   41549   41546   41551\n",
       "66587   66588   10   41550   41546   41551\n",
       "\n",
       "[66588 rows x 5 columns]"
      ]
     },
     "execution_count": 376,
     "metadata": {},
     "output_type": "execute_result"
    }
   ],
   "source": [
    "df_angles2=pd.DataFrame(lines, columns=['angleID']) # to make a data frame of pandas from the list and put bondID name on the column\n",
    "df_angles2[['angleID','type','atomID1','atomID2','atomID3']] = df_angles2.angleID.str.split(expand=True,) # to split one column to multiple columns and allocate name for each column\n",
    "df_angles2"
   ]
  },
  {
   "cell_type": "code",
   "execution_count": 377,
   "metadata": {
    "colab": {
     "base_uri": "https://localhost:8080/"
    },
    "executionInfo": {
     "elapsed": 35654,
     "status": "ok",
     "timestamp": 1610630920252,
     "user": {
      "displayName": "Saeed Akbari Shandiz",
      "photoUrl": "https://lh3.googleusercontent.com/a-/AOh14Gj_ltTfyzFcj-EidKK-RDh3G-RSeGnX-lq1mmA5=s64",
      "userId": "18254360833802486461"
     },
     "user_tz": 300
    },
    "id": "lfcKHGShHVO8",
    "outputId": "00983e3d-74dd-4e8b-e5b8-eb1b264264a0"
   },
   "outputs": [
    {
     "name": "stdout",
     "output_type": "stream",
     "text": [
      "27240    27241\n",
      "27240    27241\n",
      "27240    27241\n",
      "27241    27242\n",
      "27241    27242\n",
      "27241    27242\n",
      "27242    27243\n",
      "27242    27243\n",
      "27242    27243\n",
      "27243    27244\n",
      "27243    27244\n",
      "27243    27244\n",
      "27244    27245\n",
      "27244    27245\n",
      "27244    27245\n",
      "27245    27246\n",
      "27245    27246\n",
      "27245    27246\n",
      "27246    27247\n",
      "27246    27247\n",
      "27246    27247\n",
      "27247    27248\n",
      "27247    27248\n",
      "27247    27248\n",
      "27248    27249\n",
      "27248    27249\n",
      "27248    27249\n",
      "27249    27250\n",
      "27249    27250\n",
      "27249    27250\n",
      "27250    27251\n",
      "27250    27251\n",
      "27250    27251\n",
      "27251    27252\n",
      "27251    27252\n",
      "27251    27252\n",
      "27252    27253\n",
      "27252    27253\n",
      "27252    27253\n",
      "27253    27254\n",
      "27253    27254\n",
      "27253    27254\n",
      "27254    27255\n",
      "27254    27255\n",
      "27254    27255\n",
      "27255    27256\n",
      "27255    27256\n",
      "27255    27256\n",
      "27256    27257\n",
      "27256    27257\n",
      "27256    27257\n",
      "27257    27258\n",
      "27257    27258\n",
      "27257    27258\n",
      "27258    27259\n",
      "27258    27259\n",
      "27258    27259\n",
      "27259    27260\n",
      "27259    27260\n",
      "27259    27260\n",
      "27260    27261\n",
      "27260    27261\n",
      "27260    27261\n",
      "27261    27262\n",
      "27261    27262\n",
      "27261    27262\n",
      "27262    27263\n",
      "27262    27263\n",
      "27262    27263\n",
      "27263    27264\n",
      "27263    27264\n",
      "27263    27264\n"
     ]
    }
   ],
   "source": [
    "# to delete rows of angles for that toluene molecule\n",
    "deleted_angles=[]\n",
    "deleted_angles=np.zeros (df_angles2.shape[0])# df.shape[0] count number of rows in the data frame pandas\n",
    "\n",
    "for i in df_angles2.index:\n",
    "   for index in range (0,atmCounter): # is coorect. if atomID_arr elements are not start from 1 we still have counter which start from 1 (0 index)\n",
    "      if float(df_angles2.loc[i,'atomID1']) == atomID_arr[index].astype(int) or float(df_angles2.loc[i,'atomID2']) == atomID_arr[index].astype(int) or float(df_angles2.loc[i,'atomID3']) == atomID_arr[index].astype(int):\n",
    "        deleted_angles[i]=i+1 #to start from 1 instead of zero bc in next step i will delete zeros so will have problem if have atom with zero index in deleted_atoms[i]\n",
    "        if deleted_angles[i].astype(int) != 0:\n",
    "          print(i,\"  \",deleted_angles[i].astype(int))\n"
   ]
  },
  {
   "cell_type": "code",
   "execution_count": 378,
   "metadata": {
    "colab": {
     "base_uri": "https://localhost:8080/",
     "height": 424
    },
    "executionInfo": {
     "elapsed": 781,
     "status": "ok",
     "timestamp": 1610630940378,
     "user": {
      "displayName": "Saeed Akbari Shandiz",
      "photoUrl": "https://lh3.googleusercontent.com/a-/AOh14Gj_ltTfyzFcj-EidKK-RDh3G-RSeGnX-lq1mmA5=s64",
      "userId": "18254360833802486461"
     },
     "user_tz": 300
    },
    "id": "lQTBITPUVIQ5",
    "outputId": "c3badf97-e206-41c2-c26c-c8e5f40b0614"
   },
   "outputs": [
    {
     "data": {
      "text/html": [
       "<div>\n",
       "<style scoped>\n",
       "    .dataframe tbody tr th:only-of-type {\n",
       "        vertical-align: middle;\n",
       "    }\n",
       "\n",
       "    .dataframe tbody tr th {\n",
       "        vertical-align: top;\n",
       "    }\n",
       "\n",
       "    .dataframe thead th {\n",
       "        text-align: right;\n",
       "    }\n",
       "</style>\n",
       "<table border=\"1\" class=\"dataframe\">\n",
       "  <thead>\n",
       "    <tr style=\"text-align: right;\">\n",
       "      <th></th>\n",
       "      <th>angleID</th>\n",
       "      <th>type</th>\n",
       "      <th>atomID1</th>\n",
       "      <th>atomID2</th>\n",
       "      <th>atomID3</th>\n",
       "    </tr>\n",
       "  </thead>\n",
       "  <tbody>\n",
       "    <tr>\n",
       "      <th>0</th>\n",
       "      <td>1</td>\n",
       "      <td>1</td>\n",
       "      <td>1</td>\n",
       "      <td>2</td>\n",
       "      <td>5</td>\n",
       "    </tr>\n",
       "    <tr>\n",
       "      <th>1</th>\n",
       "      <td>2</td>\n",
       "      <td>1</td>\n",
       "      <td>1</td>\n",
       "      <td>2</td>\n",
       "      <td>9</td>\n",
       "    </tr>\n",
       "    <tr>\n",
       "      <th>2</th>\n",
       "      <td>3</td>\n",
       "      <td>2</td>\n",
       "      <td>1</td>\n",
       "      <td>2</td>\n",
       "      <td>6</td>\n",
       "    </tr>\n",
       "    <tr>\n",
       "      <th>3</th>\n",
       "      <td>4</td>\n",
       "      <td>1</td>\n",
       "      <td>5</td>\n",
       "      <td>2</td>\n",
       "      <td>9</td>\n",
       "    </tr>\n",
       "    <tr>\n",
       "      <th>4</th>\n",
       "      <td>5</td>\n",
       "      <td>2</td>\n",
       "      <td>5</td>\n",
       "      <td>2</td>\n",
       "      <td>6</td>\n",
       "    </tr>\n",
       "    <tr>\n",
       "      <th>...</th>\n",
       "      <td>...</td>\n",
       "      <td>...</td>\n",
       "      <td>...</td>\n",
       "      <td>...</td>\n",
       "      <td>...</td>\n",
       "    </tr>\n",
       "    <tr>\n",
       "      <th>66583</th>\n",
       "      <td>66584</td>\n",
       "      <td>10</td>\n",
       "      <td>41547</td>\n",
       "      <td>41545</td>\n",
       "      <td>41552</td>\n",
       "    </tr>\n",
       "    <tr>\n",
       "      <th>66584</th>\n",
       "      <td>66585</td>\n",
       "      <td>10</td>\n",
       "      <td>41548</td>\n",
       "      <td>41545</td>\n",
       "      <td>41552</td>\n",
       "    </tr>\n",
       "    <tr>\n",
       "      <th>66585</th>\n",
       "      <td>66586</td>\n",
       "      <td>10</td>\n",
       "      <td>41549</td>\n",
       "      <td>41546</td>\n",
       "      <td>41550</td>\n",
       "    </tr>\n",
       "    <tr>\n",
       "      <th>66586</th>\n",
       "      <td>66587</td>\n",
       "      <td>10</td>\n",
       "      <td>41549</td>\n",
       "      <td>41546</td>\n",
       "      <td>41551</td>\n",
       "    </tr>\n",
       "    <tr>\n",
       "      <th>66587</th>\n",
       "      <td>66588</td>\n",
       "      <td>10</td>\n",
       "      <td>41550</td>\n",
       "      <td>41546</td>\n",
       "      <td>41551</td>\n",
       "    </tr>\n",
       "  </tbody>\n",
       "</table>\n",
       "<p>66564 rows × 5 columns</p>\n",
       "</div>"
      ],
      "text/plain": [
       "      angleID type atomID1 atomID2 atomID3\n",
       "0           1    1       1       2       5\n",
       "1           2    1       1       2       9\n",
       "2           3    2       1       2       6\n",
       "3           4    1       5       2       9\n",
       "4           5    2       5       2       6\n",
       "...       ...  ...     ...     ...     ...\n",
       "66583   66584   10   41547   41545   41552\n",
       "66584   66585   10   41548   41545   41552\n",
       "66585   66586   10   41549   41546   41550\n",
       "66586   66587   10   41549   41546   41551\n",
       "66587   66588   10   41550   41546   41551\n",
       "\n",
       "[66564 rows x 5 columns]"
      ]
     },
     "execution_count": 378,
     "metadata": {},
     "output_type": "execute_result"
    }
   ],
   "source": [
    "for i in df_angles2.index:\n",
    "   \n",
    "      if deleted_angles[i].astype(int) != 0:\n",
    "        \n",
    "        df_angles2=df_angles2.drop([i])   \n",
    "df_angles2"
   ]
  },
  {
   "cell_type": "code",
   "execution_count": 379,
   "metadata": {
    "colab": {
     "base_uri": "https://localhost:8080/"
    },
    "executionInfo": {
     "elapsed": 309,
     "status": "ok",
     "timestamp": 1610630954705,
     "user": {
      "displayName": "Saeed Akbari Shandiz",
      "photoUrl": "https://lh3.googleusercontent.com/a-/AOh14Gj_ltTfyzFcj-EidKK-RDh3G-RSeGnX-lq1mmA5=s64",
      "userId": "18254360833802486461"
     },
     "user_tz": 300
    },
    "id": "wWOOMCm5QgEA",
    "outputId": "ec0c5803-b269-4610-9825-d69b02413105"
   },
   "outputs": [
    {
     "name": "stdout",
     "output_type": "stream",
     "text": [
      "[27241. 27242. 27243. 27244. 27245. 27246. 27247. 27248. 27249. 27250.\n",
      " 27251. 27252. 27253. 27254. 27255. 27256. 27257. 27258. 27259. 27260.\n",
      " 27261. 27262. 27263. 27264.]\n"
     ]
    }
   ],
   "source": [
    "deleted_angles=deleted_angles[deleted_angles!=0] # to delete zero cells from the list(array)\n",
    "deleted_angles.shape\n",
    "print(deleted_angles)"
   ]
  },
  {
   "cell_type": "code",
   "execution_count": 380,
   "metadata": {
    "colab": {
     "base_uri": "https://localhost:8080/"
    },
    "executionInfo": {
     "elapsed": 336,
     "status": "ok",
     "timestamp": 1610630966024,
     "user": {
      "displayName": "Saeed Akbari Shandiz",
      "photoUrl": "https://lh3.googleusercontent.com/a-/AOh14Gj_ltTfyzFcj-EidKK-RDh3G-RSeGnX-lq1mmA5=s64",
      "userId": "18254360833802486461"
     },
     "user_tz": 300
    },
    "id": "Oh_DlBnalNmv",
    "outputId": "26db0b2d-6c72-4cea-eb8c-4c6b284bce76"
   },
   "outputs": [
    {
     "name": "stdout",
     "output_type": "stream",
     "text": [
      "       angleID type atomID1 atomID2 atomID3\n",
      "0            1    1       1       2       5\n",
      "1            2    1       1       2       9\n",
      "2            3    2       1       2       6\n",
      "3            4    1       5       2       9\n",
      "4            5    2       5       2       6\n",
      "...        ...  ...     ...     ...     ...\n",
      "66559    66560   10   41547   41545   41552\n",
      "66560    66561   10   41548   41545   41552\n",
      "66561    66562   10   41549   41546   41550\n",
      "66562    66563   10   41549   41546   41551\n",
      "66563    66564   10   41550   41546   41551\n",
      "\n",
      "[66564 rows x 5 columns]\n"
     ]
    }
   ],
   "source": [
    "# to sort the index after deleting some of the bonds. we can use it also for sorting bond ID. so either the above code or this code can be used for sorting bonds\n",
    "df_angles2['angleID'] = df_angles2['angleID'].astype(int) #convert string to int\n",
    "\n",
    "df_angles2=df_angles2.reset_index(drop=True)# reset the index from 0 to end\n",
    "\n",
    "df_angles2['angleID']=df_angles2.index+1 # reset the bondID from 1 to end. ThankGOD!\n",
    "print(df_angles2)"
   ]
  },
  {
   "cell_type": "code",
   "execution_count": 381,
   "metadata": {
    "colab": {
     "base_uri": "https://localhost:8080/"
    },
    "executionInfo": {
     "elapsed": 13990,
     "status": "ok",
     "timestamp": 1610630982434,
     "user": {
      "displayName": "Saeed Akbari Shandiz",
      "photoUrl": "https://lh3.googleusercontent.com/a-/AOh14Gj_ltTfyzFcj-EidKK-RDh3G-RSeGnX-lq1mmA5=s64",
      "userId": "18254360833802486461"
     },
     "user_tz": 300
    },
    "id": "7sriP1lLLgud",
    "outputId": "d4aa40de-db57-40f6-9cf7-92ddc16b4943"
   },
   "outputs": [
    {
     "name": "stdout",
     "output_type": "stream",
     "text": [
      "       angleID type  atomID1 atomID2 atomID3\n",
      "0            1    1        1       2       5\n",
      "1            2    1        1       2       9\n",
      "2            3    2        1       2       6\n",
      "3            4    1        5       2       9\n",
      "4            5    2        5       2       6\n",
      "...        ...  ...      ...     ...     ...\n",
      "66559    66560   10    41532   41545   41552\n",
      "66560    66561   10    41533   41545   41552\n",
      "66561    66562   10    41534   41546   41550\n",
      "66562    66563   10    41534   41546   41551\n",
      "66563    66564   10    41535   41546   41551\n",
      "\n",
      "[66564 rows x 5 columns]\n"
     ]
    }
   ],
   "source": [
    "#order atom ID1\n",
    "df_angles2.loc[:,\"atomID1\"] = df_angles2.loc[:,\"atomID1\"].astype(int) #convert string to int\n",
    "\n",
    "for index in df_angles2.index:\n",
    "  if (df_angles2.loc[index,\"atomID1\"]) > (atomID_arr[0].astype(int)):\n",
    "  \n",
    "    df_angles2.loc[index,\"atomID1\"] =df_angles2.loc[index,\"atomID1\"]-atmCounter \n",
    "    #df.loc[df['atomID'] >atmCounter , 'atomID'] = df.loc[index,\"atomID\"]-atmCounter    #to modify the column of atomID after deleting the atoms of toluene in atom list. it is a if condition in python\n",
    "print(df_angles2)"
   ]
  },
  {
   "cell_type": "code",
   "execution_count": 382,
   "metadata": {
    "colab": {
     "base_uri": "https://localhost:8080/"
    },
    "executionInfo": {
     "elapsed": 13964,
     "status": "ok",
     "timestamp": 1610631021762,
     "user": {
      "displayName": "Saeed Akbari Shandiz",
      "photoUrl": "https://lh3.googleusercontent.com/a-/AOh14Gj_ltTfyzFcj-EidKK-RDh3G-RSeGnX-lq1mmA5=s64",
      "userId": "18254360833802486461"
     },
     "user_tz": 300
    },
    "id": "pqS58cTSLly7",
    "outputId": "938c1f31-a89e-42e8-9052-1d7f4d8aebf5"
   },
   "outputs": [
    {
     "name": "stdout",
     "output_type": "stream",
     "text": [
      "       angleID type  atomID1  atomID2 atomID3\n",
      "0            1    1        1        2       5\n",
      "1            2    1        1        2       9\n",
      "2            3    2        1        2       6\n",
      "3            4    1        5        2       9\n",
      "4            5    2        5        2       6\n",
      "...        ...  ...      ...      ...     ...\n",
      "66559    66560   10    41532    41530   41552\n",
      "66560    66561   10    41533    41530   41552\n",
      "66561    66562   10    41534    41531   41550\n",
      "66562    66563   10    41534    41531   41551\n",
      "66563    66564   10    41535    41531   41551\n",
      "\n",
      "[66564 rows x 5 columns]\n"
     ]
    }
   ],
   "source": [
    "#order atom ID2\n",
    "df_angles2.loc[:,\"atomID2\"] = df_angles2.loc[:,\"atomID2\"].astype(int) #convert string to int\n",
    "\n",
    "for index in df_angles2.index:\n",
    "  if (df_angles2.loc[index,\"atomID2\"]) > (atomID_arr[0].astype(int)):\n",
    "  \n",
    "    df_angles2.loc[index,\"atomID2\"] =df_angles2.loc[index,\"atomID2\"]-atmCounter \n",
    "    #df.loc[df['atomID'] >atmCounter , 'atomID'] = df.loc[index,\"atomID\"]-atmCounter    #to modify the column of atomID after deleting the atoms of toluene in atom list. it is a if condition in python\n",
    "print(df_angles2)"
   ]
  },
  {
   "cell_type": "code",
   "execution_count": 383,
   "metadata": {
    "colab": {
     "base_uri": "https://localhost:8080/"
    },
    "executionInfo": {
     "elapsed": 14088,
     "status": "ok",
     "timestamp": 1610631042325,
     "user": {
      "displayName": "Saeed Akbari Shandiz",
      "photoUrl": "https://lh3.googleusercontent.com/a-/AOh14Gj_ltTfyzFcj-EidKK-RDh3G-RSeGnX-lq1mmA5=s64",
      "userId": "18254360833802486461"
     },
     "user_tz": 300
    },
    "id": "QjB7iJNHLrBk",
    "outputId": "e898ada6-c312-41f5-8ce7-7c35b22a36c0"
   },
   "outputs": [
    {
     "name": "stdout",
     "output_type": "stream",
     "text": [
      "       angleID type  atomID1  atomID2  atomID3\n",
      "0            1    1        1        2        5\n",
      "1            2    1        1        2        9\n",
      "2            3    2        1        2        6\n",
      "3            4    1        5        2        9\n",
      "4            5    2        5        2        6\n",
      "...        ...  ...      ...      ...      ...\n",
      "66559    66560   10    41532    41530    41537\n",
      "66560    66561   10    41533    41530    41537\n",
      "66561    66562   10    41534    41531    41535\n",
      "66562    66563   10    41534    41531    41536\n",
      "66563    66564   10    41535    41531    41536\n",
      "\n",
      "[66564 rows x 5 columns]\n"
     ]
    }
   ],
   "source": [
    "#order atom ID3\n",
    "df_angles2.loc[:,\"atomID3\"] = df_angles2.loc[:,\"atomID3\"].astype(int) #convert string to int\n",
    "\n",
    "for index in df_angles2.index:\n",
    "  if (df_angles2.loc[index,\"atomID3\"]) > (atomID_arr[0].astype(int)):\n",
    "  \n",
    "    df_angles2.loc[index,\"atomID3\"] =df_angles2.loc[index,\"atomID3\"]-atmCounter \n",
    "    #df.loc[df['atomID'] >atmCounter , 'atomID'] = df.loc[index,\"atomID\"]-atmCounter    #to modify the column of atomID after deleting the atoms of toluene in atom list. it is a if condition in python\n",
    "print(df_angles2)"
   ]
  },
  {
   "cell_type": "code",
   "execution_count": 151,
   "metadata": {
    "colab": {
     "base_uri": "https://localhost:8080/",
     "height": 255
    },
    "executionInfo": {
     "elapsed": 430,
     "status": "ok",
     "timestamp": 1600382340243,
     "user": {
      "displayName": "Saeed Akbari Shandiz",
      "photoUrl": "https://lh3.googleusercontent.com/a-/AOh14Gj_ltTfyzFcj-EidKK-RDh3G-RSeGnX-lq1mmA5=s64",
      "userId": "18254360833802486461"
     },
     "user_tz": 240
    },
    "id": "dxqj3Vct5XIB",
    "outputId": "9118e554-b6b5-40d1-e306-92163d6c5bec"
   },
   "outputs": [],
   "source": [
    "#df['atomID1'] = df['atomID1'].astype(int) #convert string to int\n",
    "#df['atomID2'] = df['atomID2'].astype(int) #convert string to int\n",
    "#df['atomID3'] = df['atomID3'].astype(int) #convert string to int\n",
    "\n",
    "#df.loc[df['atomID1'] >atmCounter , 'atomID1'] = df.loc[:,\"atomID1\"]-atmCounter  #to modify the column of atomID after deleting the atoms of toluene in atom list. 4 is the last # of deleted atoms (3,4) and 2 is the number of atoms that are deleted.\n",
    "#df.loc[df['atomID2'] >atmCounter , 'atomID2'] = df.loc[:,\"atomID2\"]-atmCounter \n",
    "#df.loc[df['atomID3'] >atmCounter , 'atomID3'] = df.loc[:,\"atomID3\"]-atmCounter\n",
    "#print(df)"
   ]
  },
  {
   "cell_type": "code",
   "execution_count": 384,
   "metadata": {
    "executionInfo": {
     "elapsed": 371,
     "status": "ok",
     "timestamp": 1610631060779,
     "user": {
      "displayName": "Saeed Akbari Shandiz",
      "photoUrl": "https://lh3.googleusercontent.com/a-/AOh14Gj_ltTfyzFcj-EidKK-RDh3G-RSeGnX-lq1mmA5=s64",
      "userId": "18254360833802486461"
     },
     "user_tz": 300
    },
    "id": "ysN2JvXreHoV"
   },
   "outputs": [],
   "source": [
    "# to write the new atom list from data frame (pandas) to a file\n",
    "df_angles2.to_csv(r'C:\\vmd\\delTol7\\angle6.txt', header=None, index=None, sep=' ', mode='a')"
   ]
  },
  {
   "cell_type": "code",
   "execution_count": 209,
   "metadata": {
    "colab": {
     "base_uri": "https://localhost:8080/",
     "height": 424
    },
    "executionInfo": {
     "elapsed": 293,
     "status": "ok",
     "timestamp": 1607898400267,
     "user": {
      "displayName": "Saeed Akbari Shandiz",
      "photoUrl": "https://lh3.googleusercontent.com/a-/AOh14Gj_ltTfyzFcj-EidKK-RDh3G-RSeGnX-lq1mmA5=s64",
      "userId": "18254360833802486461"
     },
     "user_tz": 300
    },
    "id": "kTyLOs-dPMhW",
    "outputId": "82890906-6606-41db-c1c3-db81ac63f1c4"
   },
   "outputs": [],
   "source": [
    "#df_angles3= df_angles2\n",
    "#df_angles3"
   ]
  },
  {
   "cell_type": "markdown",
   "metadata": {
    "id": "JDIVfHKu_BpH"
   },
   "source": [
    "# **Dihedrals**"
   ]
  },
  {
   "cell_type": "code",
   "execution_count": 385,
   "metadata": {
    "executionInfo": {
     "elapsed": 372,
     "status": "ok",
     "timestamp": 1610631071892,
     "user": {
      "displayName": "Saeed Akbari Shandiz",
      "photoUrl": "https://lh3.googleusercontent.com/a-/AOh14Gj_ltTfyzFcj-EidKK-RDh3G-RSeGnX-lq1mmA5=s64",
      "userId": "18254360833802486461"
     },
     "user_tz": 300
    },
    "id": "LFEJ5yKp_Guf"
   },
   "outputs": [],
   "source": [
    "lines=[]\n",
    "with open(r'C:\\vmd\\delTol7\\peoLinTolDelTol5.dat') as fp:   # to read lines if atomlist after \"Atoms\"\n",
    "        for line in fp:\n",
    "            if 'Dihedrals' in line:                                         \n",
    "                for line in fp: # now you are at the lines you want\n",
    "                    if 'LAMMPS Description' in line: \n",
    "                     break \n",
    "                   \n",
    "                    line=line.rstrip()# to remove any white spaces at the end of the string                  \n",
    "                    #\n",
    "                    lines.append(line)# add the string in to the list\n",
    "                    #lines= line.split(\"space\")# for line in a pandas data frame. here it can not read our lines separetely. it reads all lines as a line so does not split it into different indexs"
   ]
  },
  {
   "cell_type": "code",
   "execution_count": 386,
   "metadata": {
    "executionInfo": {
     "elapsed": 308,
     "status": "ok",
     "timestamp": 1610631080766,
     "user": {
      "displayName": "Saeed Akbari Shandiz",
      "photoUrl": "https://lh3.googleusercontent.com/a-/AOh14Gj_ltTfyzFcj-EidKK-RDh3G-RSeGnX-lq1mmA5=s64",
      "userId": "18254360833802486461"
     },
     "user_tz": 300
    },
    "id": "zCIi9-GG_JCe"
   },
   "outputs": [],
   "source": [
    "#remove empty lines from the list\n",
    "while(\"\" in lines) : \n",
    "    lines.remove(\"\") "
   ]
  },
  {
   "cell_type": "code",
   "execution_count": 387,
   "metadata": {
    "colab": {
     "base_uri": "https://localhost:8080/",
     "height": 424
    },
    "executionInfo": {
     "elapsed": 1140,
     "status": "ok",
     "timestamp": 1610631083386,
     "user": {
      "displayName": "Saeed Akbari Shandiz",
      "photoUrl": "https://lh3.googleusercontent.com/a-/AOh14Gj_ltTfyzFcj-EidKK-RDh3G-RSeGnX-lq1mmA5=s64",
      "userId": "18254360833802486461"
     },
     "user_tz": 300
    },
    "id": "o9C7nQJc_rmt",
    "outputId": "087bcd31-e70e-4e91-a0e9-695bd2eef100"
   },
   "outputs": [
    {
     "data": {
      "text/html": [
       "<div>\n",
       "<style scoped>\n",
       "    .dataframe tbody tr th:only-of-type {\n",
       "        vertical-align: middle;\n",
       "    }\n",
       "\n",
       "    .dataframe tbody tr th {\n",
       "        vertical-align: top;\n",
       "    }\n",
       "\n",
       "    .dataframe thead th {\n",
       "        text-align: right;\n",
       "    }\n",
       "</style>\n",
       "<table border=\"1\" class=\"dataframe\">\n",
       "  <thead>\n",
       "    <tr style=\"text-align: right;\">\n",
       "      <th></th>\n",
       "      <th>dihedralID</th>\n",
       "      <th>type</th>\n",
       "      <th>atomID1</th>\n",
       "      <th>atomID2</th>\n",
       "      <th>atomID3</th>\n",
       "      <th>atomID4</th>\n",
       "    </tr>\n",
       "  </thead>\n",
       "  <tbody>\n",
       "    <tr>\n",
       "      <th>0</th>\n",
       "      <td>1</td>\n",
       "      <td>1</td>\n",
       "      <td>3</td>\n",
       "      <td>6</td>\n",
       "      <td>2</td>\n",
       "      <td>1</td>\n",
       "    </tr>\n",
       "    <tr>\n",
       "      <th>1</th>\n",
       "      <td>2</td>\n",
       "      <td>1</td>\n",
       "      <td>3</td>\n",
       "      <td>6</td>\n",
       "      <td>2</td>\n",
       "      <td>5</td>\n",
       "    </tr>\n",
       "    <tr>\n",
       "      <th>2</th>\n",
       "      <td>3</td>\n",
       "      <td>1</td>\n",
       "      <td>3</td>\n",
       "      <td>6</td>\n",
       "      <td>2</td>\n",
       "      <td>9</td>\n",
       "    </tr>\n",
       "    <tr>\n",
       "      <th>3</th>\n",
       "      <td>4</td>\n",
       "      <td>1</td>\n",
       "      <td>10</td>\n",
       "      <td>6</td>\n",
       "      <td>2</td>\n",
       "      <td>1</td>\n",
       "    </tr>\n",
       "    <tr>\n",
       "      <th>4</th>\n",
       "      <td>5</td>\n",
       "      <td>1</td>\n",
       "      <td>10</td>\n",
       "      <td>6</td>\n",
       "      <td>2</td>\n",
       "      <td>5</td>\n",
       "    </tr>\n",
       "    <tr>\n",
       "      <th>...</th>\n",
       "      <td>...</td>\n",
       "      <td>...</td>\n",
       "      <td>...</td>\n",
       "      <td>...</td>\n",
       "      <td>...</td>\n",
       "      <td>...</td>\n",
       "    </tr>\n",
       "    <tr>\n",
       "      <th>83146</th>\n",
       "      <td>83147</td>\n",
       "      <td>7</td>\n",
       "      <td>41548</td>\n",
       "      <td>41545</td>\n",
       "      <td>41544</td>\n",
       "      <td>41413</td>\n",
       "    </tr>\n",
       "    <tr>\n",
       "      <th>83147</th>\n",
       "      <td>83148</td>\n",
       "      <td>7</td>\n",
       "      <td>41552</td>\n",
       "      <td>41545</td>\n",
       "      <td>41544</td>\n",
       "      <td>41413</td>\n",
       "    </tr>\n",
       "    <tr>\n",
       "      <th>83148</th>\n",
       "      <td>83149</td>\n",
       "      <td>7</td>\n",
       "      <td>41549</td>\n",
       "      <td>41546</td>\n",
       "      <td>41537</td>\n",
       "      <td>41538</td>\n",
       "    </tr>\n",
       "    <tr>\n",
       "      <th>83149</th>\n",
       "      <td>83150</td>\n",
       "      <td>7</td>\n",
       "      <td>41550</td>\n",
       "      <td>41546</td>\n",
       "      <td>41537</td>\n",
       "      <td>41538</td>\n",
       "    </tr>\n",
       "    <tr>\n",
       "      <th>83150</th>\n",
       "      <td>83151</td>\n",
       "      <td>7</td>\n",
       "      <td>41551</td>\n",
       "      <td>41546</td>\n",
       "      <td>41537</td>\n",
       "      <td>41538</td>\n",
       "    </tr>\n",
       "  </tbody>\n",
       "</table>\n",
       "<p>83151 rows × 6 columns</p>\n",
       "</div>"
      ],
      "text/plain": [
       "      dihedralID type atomID1 atomID2 atomID3 atomID4\n",
       "0              1    1       3       6       2       1\n",
       "1              2    1       3       6       2       5\n",
       "2              3    1       3       6       2       9\n",
       "3              4    1      10       6       2       1\n",
       "4              5    1      10       6       2       5\n",
       "...          ...  ...     ...     ...     ...     ...\n",
       "83146      83147    7   41548   41545   41544   41413\n",
       "83147      83148    7   41552   41545   41544   41413\n",
       "83148      83149    7   41549   41546   41537   41538\n",
       "83149      83150    7   41550   41546   41537   41538\n",
       "83150      83151    7   41551   41546   41537   41538\n",
       "\n",
       "[83151 rows x 6 columns]"
      ]
     },
     "execution_count": 387,
     "metadata": {},
     "output_type": "execute_result"
    }
   ],
   "source": [
    "df_dihedrals2=pd.DataFrame(lines, columns=['dihedralID']) # to make a data frame of pandas from the list and put bondID name on the column\n",
    "df_dihedrals2[['dihedralID','type','atomID1','atomID2','atomID3','atomID4']] = df_dihedrals2.dihedralID.str.split(expand=True,) # to split one column to multiple columns and allocate name for each column\n",
    "df_dihedrals2"
   ]
  },
  {
   "cell_type": "code",
   "execution_count": 388,
   "metadata": {
    "colab": {
     "base_uri": "https://localhost:8080/"
    },
    "executionInfo": {
     "elapsed": 58301,
     "status": "ok",
     "timestamp": 1610631144569,
     "user": {
      "displayName": "Saeed Akbari Shandiz",
      "photoUrl": "https://lh3.googleusercontent.com/a-/AOh14Gj_ltTfyzFcj-EidKK-RDh3G-RSeGnX-lq1mmA5=s64",
      "userId": "18254360833802486461"
     },
     "user_tz": 300
    },
    "id": "FnQrEMRiXnx1",
    "outputId": "b7777944-64d1-4ba0-9a85-4438c7c47701"
   },
   "outputs": [
    {
     "name": "stdout",
     "output_type": "stream",
     "text": [
      "34062    34063\n",
      "34062    34063\n",
      "34062    34063\n",
      "34062    34063\n",
      "34063    34064\n",
      "34063    34064\n",
      "34063    34064\n",
      "34063    34064\n",
      "34064    34065\n",
      "34064    34065\n",
      "34064    34065\n",
      "34064    34065\n",
      "34065    34066\n",
      "34065    34066\n",
      "34065    34066\n",
      "34065    34066\n",
      "34066    34067\n",
      "34066    34067\n",
      "34066    34067\n",
      "34066    34067\n",
      "34067    34068\n",
      "34067    34068\n",
      "34067    34068\n",
      "34067    34068\n",
      "34068    34069\n",
      "34068    34069\n",
      "34068    34069\n",
      "34068    34069\n",
      "34069    34070\n",
      "34069    34070\n",
      "34069    34070\n",
      "34069    34070\n",
      "34070    34071\n",
      "34070    34071\n",
      "34070    34071\n",
      "34070    34071\n",
      "34071    34072\n",
      "34071    34072\n",
      "34071    34072\n",
      "34071    34072\n",
      "34072    34073\n",
      "34072    34073\n",
      "34072    34073\n",
      "34072    34073\n",
      "34073    34074\n",
      "34073    34074\n",
      "34073    34074\n",
      "34073    34074\n",
      "34074    34075\n",
      "34074    34075\n",
      "34074    34075\n",
      "34074    34075\n",
      "34075    34076\n",
      "34075    34076\n",
      "34075    34076\n",
      "34075    34076\n",
      "34076    34077\n",
      "34076    34077\n",
      "34076    34077\n",
      "34076    34077\n",
      "34077    34078\n",
      "34077    34078\n",
      "34077    34078\n",
      "34077    34078\n",
      "34078    34079\n",
      "34078    34079\n",
      "34078    34079\n",
      "34078    34079\n",
      "34079    34080\n",
      "34079    34080\n",
      "34079    34080\n",
      "34079    34080\n",
      "34080    34081\n",
      "34080    34081\n",
      "34080    34081\n",
      "34080    34081\n",
      "34081    34082\n",
      "34081    34082\n",
      "34081    34082\n",
      "34081    34082\n",
      "34082    34083\n",
      "34082    34083\n",
      "34082    34083\n",
      "34082    34083\n",
      "34083    34084\n",
      "34083    34084\n",
      "34083    34084\n",
      "34083    34084\n",
      "34084    34085\n",
      "34084    34085\n",
      "34084    34085\n",
      "34084    34085\n",
      "34085    34086\n",
      "34085    34086\n",
      "34085    34086\n",
      "34085    34086\n",
      "34086    34087\n",
      "34086    34087\n",
      "34086    34087\n",
      "34086    34087\n",
      "34087    34088\n",
      "34087    34088\n",
      "34087    34088\n",
      "34087    34088\n",
      "34088    34089\n",
      "34088    34089\n",
      "34088    34089\n",
      "34088    34089\n",
      "34089    34090\n",
      "34089    34090\n",
      "34089    34090\n",
      "34089    34090\n",
      "34090    34091\n",
      "34090    34091\n",
      "34090    34091\n",
      "34090    34091\n",
      "34091    34092\n",
      "34091    34092\n",
      "34091    34092\n",
      "34091    34092\n"
     ]
    }
   ],
   "source": [
    "# to delete rows of dihedrals for that toluene molecule\n",
    "deleted_diheds=[]\n",
    "deleted_diheds=np.zeros (df_dihedrals2.shape[0])# df.shape[0] count number of rows in the data frame pandas\n",
    "\n",
    "for i in df_dihedrals2.index:\n",
    "   for index in range (0,atmCounter): # is coorect. if atomID_arr elements are not start from 1 we still have counter which start from 1 (0 index)\n",
    "      if float(df_dihedrals2.loc[i,'atomID1']) == atomID_arr[index].astype(int) or float(df_dihedrals2.loc[i,'atomID2']) == atomID_arr[index].astype(int) or float(df_dihedrals2.loc[i,'atomID3']) == atomID_arr[index].astype(int) or float(df_dihedrals2.loc[i,'atomID4']) == atomID_arr[index].astype(int):\n",
    "        deleted_diheds[i]=i+1 #to start from 1 instead of zero bc in next step i will delete zeros so will have problem if have atom with zero index in deleted_atoms[i]\n",
    "        if deleted_diheds[i].astype(int) != 0:\n",
    "          print(i,\"  \",deleted_diheds[i].astype(int))\n",
    "  "
   ]
  },
  {
   "cell_type": "code",
   "execution_count": 389,
   "metadata": {
    "colab": {
     "base_uri": "https://localhost:8080/",
     "height": 424
    },
    "executionInfo": {
     "elapsed": 881,
     "status": "ok",
     "timestamp": 1610631153220,
     "user": {
      "displayName": "Saeed Akbari Shandiz",
      "photoUrl": "https://lh3.googleusercontent.com/a-/AOh14Gj_ltTfyzFcj-EidKK-RDh3G-RSeGnX-lq1mmA5=s64",
      "userId": "18254360833802486461"
     },
     "user_tz": 300
    },
    "id": "7Bu_G0OsYQvP",
    "outputId": "6e501165-b017-42ca-8615-5fef04ffbade"
   },
   "outputs": [
    {
     "data": {
      "text/html": [
       "<div>\n",
       "<style scoped>\n",
       "    .dataframe tbody tr th:only-of-type {\n",
       "        vertical-align: middle;\n",
       "    }\n",
       "\n",
       "    .dataframe tbody tr th {\n",
       "        vertical-align: top;\n",
       "    }\n",
       "\n",
       "    .dataframe thead th {\n",
       "        text-align: right;\n",
       "    }\n",
       "</style>\n",
       "<table border=\"1\" class=\"dataframe\">\n",
       "  <thead>\n",
       "    <tr style=\"text-align: right;\">\n",
       "      <th></th>\n",
       "      <th>dihedralID</th>\n",
       "      <th>type</th>\n",
       "      <th>atomID1</th>\n",
       "      <th>atomID2</th>\n",
       "      <th>atomID3</th>\n",
       "      <th>atomID4</th>\n",
       "    </tr>\n",
       "  </thead>\n",
       "  <tbody>\n",
       "    <tr>\n",
       "      <th>0</th>\n",
       "      <td>1</td>\n",
       "      <td>1</td>\n",
       "      <td>3</td>\n",
       "      <td>6</td>\n",
       "      <td>2</td>\n",
       "      <td>1</td>\n",
       "    </tr>\n",
       "    <tr>\n",
       "      <th>1</th>\n",
       "      <td>2</td>\n",
       "      <td>1</td>\n",
       "      <td>3</td>\n",
       "      <td>6</td>\n",
       "      <td>2</td>\n",
       "      <td>5</td>\n",
       "    </tr>\n",
       "    <tr>\n",
       "      <th>2</th>\n",
       "      <td>3</td>\n",
       "      <td>1</td>\n",
       "      <td>3</td>\n",
       "      <td>6</td>\n",
       "      <td>2</td>\n",
       "      <td>9</td>\n",
       "    </tr>\n",
       "    <tr>\n",
       "      <th>3</th>\n",
       "      <td>4</td>\n",
       "      <td>1</td>\n",
       "      <td>10</td>\n",
       "      <td>6</td>\n",
       "      <td>2</td>\n",
       "      <td>1</td>\n",
       "    </tr>\n",
       "    <tr>\n",
       "      <th>4</th>\n",
       "      <td>5</td>\n",
       "      <td>1</td>\n",
       "      <td>10</td>\n",
       "      <td>6</td>\n",
       "      <td>2</td>\n",
       "      <td>5</td>\n",
       "    </tr>\n",
       "    <tr>\n",
       "      <th>...</th>\n",
       "      <td>...</td>\n",
       "      <td>...</td>\n",
       "      <td>...</td>\n",
       "      <td>...</td>\n",
       "      <td>...</td>\n",
       "      <td>...</td>\n",
       "    </tr>\n",
       "    <tr>\n",
       "      <th>83146</th>\n",
       "      <td>83147</td>\n",
       "      <td>7</td>\n",
       "      <td>41548</td>\n",
       "      <td>41545</td>\n",
       "      <td>41544</td>\n",
       "      <td>41413</td>\n",
       "    </tr>\n",
       "    <tr>\n",
       "      <th>83147</th>\n",
       "      <td>83148</td>\n",
       "      <td>7</td>\n",
       "      <td>41552</td>\n",
       "      <td>41545</td>\n",
       "      <td>41544</td>\n",
       "      <td>41413</td>\n",
       "    </tr>\n",
       "    <tr>\n",
       "      <th>83148</th>\n",
       "      <td>83149</td>\n",
       "      <td>7</td>\n",
       "      <td>41549</td>\n",
       "      <td>41546</td>\n",
       "      <td>41537</td>\n",
       "      <td>41538</td>\n",
       "    </tr>\n",
       "    <tr>\n",
       "      <th>83149</th>\n",
       "      <td>83150</td>\n",
       "      <td>7</td>\n",
       "      <td>41550</td>\n",
       "      <td>41546</td>\n",
       "      <td>41537</td>\n",
       "      <td>41538</td>\n",
       "    </tr>\n",
       "    <tr>\n",
       "      <th>83150</th>\n",
       "      <td>83151</td>\n",
       "      <td>7</td>\n",
       "      <td>41551</td>\n",
       "      <td>41546</td>\n",
       "      <td>41537</td>\n",
       "      <td>41538</td>\n",
       "    </tr>\n",
       "  </tbody>\n",
       "</table>\n",
       "<p>83121 rows × 6 columns</p>\n",
       "</div>"
      ],
      "text/plain": [
       "      dihedralID type atomID1 atomID2 atomID3 atomID4\n",
       "0              1    1       3       6       2       1\n",
       "1              2    1       3       6       2       5\n",
       "2              3    1       3       6       2       9\n",
       "3              4    1      10       6       2       1\n",
       "4              5    1      10       6       2       5\n",
       "...          ...  ...     ...     ...     ...     ...\n",
       "83146      83147    7   41548   41545   41544   41413\n",
       "83147      83148    7   41552   41545   41544   41413\n",
       "83148      83149    7   41549   41546   41537   41538\n",
       "83149      83150    7   41550   41546   41537   41538\n",
       "83150      83151    7   41551   41546   41537   41538\n",
       "\n",
       "[83121 rows x 6 columns]"
      ]
     },
     "execution_count": 389,
     "metadata": {},
     "output_type": "execute_result"
    }
   ],
   "source": [
    "for i in df_dihedrals2.index:\n",
    "   \n",
    "      if deleted_diheds[i].astype(int) != 0:\n",
    "        \n",
    "        df_dihedrals2=df_dihedrals2.drop([i])   \n",
    "df_dihedrals2"
   ]
  },
  {
   "cell_type": "code",
   "execution_count": 390,
   "metadata": {
    "colab": {
     "base_uri": "https://localhost:8080/"
    },
    "executionInfo": {
     "elapsed": 383,
     "status": "ok",
     "timestamp": 1610631155789,
     "user": {
      "displayName": "Saeed Akbari Shandiz",
      "photoUrl": "https://lh3.googleusercontent.com/a-/AOh14Gj_ltTfyzFcj-EidKK-RDh3G-RSeGnX-lq1mmA5=s64",
      "userId": "18254360833802486461"
     },
     "user_tz": 300
    },
    "id": "WJLbO5z9qUW-",
    "outputId": "812a645a-2df6-4c7d-b9d5-a4f935c10ee4"
   },
   "outputs": [
    {
     "name": "stdout",
     "output_type": "stream",
     "text": [
      "[34063. 34064. 34065. 34066. 34067. 34068. 34069. 34070. 34071. 34072.\n",
      " 34073. 34074. 34075. 34076. 34077. 34078. 34079. 34080. 34081. 34082.\n",
      " 34083. 34084. 34085. 34086. 34087. 34088. 34089. 34090. 34091. 34092.]\n"
     ]
    }
   ],
   "source": [
    "deleted_diheds=deleted_diheds[deleted_diheds!=0] # to delete zero cells from the list(array)\n",
    "deleted_diheds.shape\n",
    "print(deleted_diheds)"
   ]
  },
  {
   "cell_type": "code",
   "execution_count": 391,
   "metadata": {
    "colab": {
     "base_uri": "https://localhost:8080/"
    },
    "executionInfo": {
     "elapsed": 327,
     "status": "ok",
     "timestamp": 1610631157850,
     "user": {
      "displayName": "Saeed Akbari Shandiz",
      "photoUrl": "https://lh3.googleusercontent.com/a-/AOh14Gj_ltTfyzFcj-EidKK-RDh3G-RSeGnX-lq1mmA5=s64",
      "userId": "18254360833802486461"
     },
     "user_tz": 300
    },
    "id": "EavY1s4nrc08",
    "outputId": "abf0c2d5-85d2-4b00-aa07-2d7a3ac8cf03"
   },
   "outputs": [
    {
     "name": "stdout",
     "output_type": "stream",
     "text": [
      "       dihedralID type atomID1 atomID2 atomID3 atomID4\n",
      "0               1    1       3       6       2       1\n",
      "1               2    1       3       6       2       5\n",
      "2               3    1       3       6       2       9\n",
      "3               4    1      10       6       2       1\n",
      "4               5    1      10       6       2       5\n",
      "...           ...  ...     ...     ...     ...     ...\n",
      "83116       83117    7   41548   41545   41544   41413\n",
      "83117       83118    7   41552   41545   41544   41413\n",
      "83118       83119    7   41549   41546   41537   41538\n",
      "83119       83120    7   41550   41546   41537   41538\n",
      "83120       83121    7   41551   41546   41537   41538\n",
      "\n",
      "[83121 rows x 6 columns]\n"
     ]
    }
   ],
   "source": [
    "# to sort the index after deleting some of the bonds. we can use it also for sorting bond ID. so either the above code or this code can be used for sorting bonds\n",
    "df_dihedrals2['dihedralID'] = df_dihedrals2['dihedralID'].astype(int) #convert string to int\n",
    "\n",
    "df_dihedrals2=df_dihedrals2.reset_index(drop=True)# reset the index from 0 to end\n",
    "\n",
    "df_dihedrals2['dihedralID']=df_dihedrals2.index+1 # reset the bondID from 1 to end. ThankGOD!\n",
    "print(df_dihedrals2)"
   ]
  },
  {
   "cell_type": "code",
   "execution_count": 392,
   "metadata": {
    "colab": {
     "base_uri": "https://localhost:8080/"
    },
    "executionInfo": {
     "elapsed": 75938,
     "status": "ok",
     "timestamp": 1610631236679,
     "user": {
      "displayName": "Saeed Akbari Shandiz",
      "photoUrl": "https://lh3.googleusercontent.com/a-/AOh14Gj_ltTfyzFcj-EidKK-RDh3G-RSeGnX-lq1mmA5=s64",
      "userId": "18254360833802486461"
     },
     "user_tz": 300
    },
    "id": "pdqwpecHgfNQ",
    "outputId": "7fd618c4-a344-44da-c206-19a3a77bbc5d"
   },
   "outputs": [
    {
     "name": "stdout",
     "output_type": "stream",
     "text": [
      "       dihedralID type  atomID1  atomID2  atomID3  atomID4\n",
      "0               1    1        3        6        2        1\n",
      "1               2    1        3        6        2        5\n",
      "2               3    1        3        6        2        9\n",
      "3               4    1       10        6        2        1\n",
      "4               5    1       10        6        2        5\n",
      "...           ...  ...      ...      ...      ...      ...\n",
      "83116       83117    7    41533    41530    41529    41398\n",
      "83117       83118    7    41537    41530    41529    41398\n",
      "83118       83119    7    41534    41531    41522    41523\n",
      "83119       83120    7    41535    41531    41522    41523\n",
      "83120       83121    7    41536    41531    41522    41523\n",
      "\n",
      "[83121 rows x 6 columns]\n"
     ]
    }
   ],
   "source": [
    "#order atom ID1 , ID2 , ID3 and ID4 at one loop to do it faster than we did for angles with three different loops.\n",
    "df_dihedrals2.loc[:,\"atomID1\"] = df_dihedrals2.loc[:,\"atomID1\"].astype(int) #convert string to int\n",
    "df_dihedrals2.loc[:,\"atomID2\"] = df_dihedrals2.loc[:,\"atomID2\"].astype(int) #convert string to int\n",
    "df_dihedrals2.loc[:,\"atomID3\"] = df_dihedrals2.loc[:,\"atomID3\"].astype(int) #convert string to int\n",
    "df_dihedrals2.loc[:,\"atomID4\"] = df_dihedrals2.loc[:,\"atomID4\"].astype(int) #convert string to int\n",
    "\n",
    "for index in df_dihedrals2.index:\n",
    "  if (df_dihedrals2.loc[index,\"atomID1\"]) > (atomID_arr[0].astype(int)):  \n",
    "    df_dihedrals2.loc[index,\"atomID1\"] =df_dihedrals2.loc[index,\"atomID1\"]-atmCounter\n",
    "\n",
    "  if (df_dihedrals2.loc[index,\"atomID2\"]) > (atomID_arr[0].astype(int)):  \n",
    "    df_dihedrals2.loc[index,\"atomID2\"] =df_dihedrals2.loc[index,\"atomID2\"]-atmCounter \n",
    "\n",
    "  if (df_dihedrals2.loc[index,\"atomID3\"]) > (atomID_arr[0].astype(int)):  \n",
    "    df_dihedrals2.loc[index,\"atomID3\"] =df_dihedrals2.loc[index,\"atomID3\"]-atmCounter \n",
    "\n",
    "  if (df_dihedrals2.loc[index,\"atomID4\"]) > (atomID_arr[0].astype(int)):  \n",
    "    df_dihedrals2.loc[index,\"atomID4\"] =df_dihedrals2.loc[index,\"atomID4\"]-atmCounter  \n",
    "   \n",
    "print(df_dihedrals2)"
   ]
  },
  {
   "cell_type": "code",
   "execution_count": 162,
   "metadata": {
    "colab": {
     "base_uri": "https://localhost:8080/",
     "height": 255
    },
    "executionInfo": {
     "elapsed": 453,
     "status": "ok",
     "timestamp": 1600382615043,
     "user": {
      "displayName": "Saeed Akbari Shandiz",
      "photoUrl": "https://lh3.googleusercontent.com/a-/AOh14Gj_ltTfyzFcj-EidKK-RDh3G-RSeGnX-lq1mmA5=s64",
      "userId": "18254360833802486461"
     },
     "user_tz": 240
    },
    "id": "L5_sMzH8_wLx",
    "outputId": "65b5fced-a3e9-4afa-95e9-eb77733ace2c"
   },
   "outputs": [],
   "source": [
    "#df['atomID1'] = df['atomID1'].astype(int) #convert string to int\n",
    "#df['atomID2'] = df['atomID2'].astype(int) #convert string to int\n",
    "#df['atomID3'] = df['atomID3'].astype(int) #convert string to int\n",
    "#df['atomID4'] = df['atomID4'].astype(int) #convert string to int\n",
    "\n",
    "#df.loc[df['atomID1'] >atmCounter , 'atomID1'] = df.loc[:,\"atomID1\"]-atmCounter  #to modify the column of atomID after deleting the atoms of toluene in atom list. 4 is the last # of deleted atoms (3,4) and 2 is the number of atoms that are deleted.\n",
    "#df.loc[df['atomID2'] >atmCounter , 'atomID2'] = df.loc[:,\"atomID2\"]-atmCounter\n",
    "#df.loc[df['atomID3'] >atmCounter , 'atomID3'] = df.loc[:,\"atomID3\"]-atmCounter\n",
    "#df.loc[df['atomID4'] >atmCounter , 'atomID4'] = df.loc[:,\"atomID4\"]-atmCounter\n",
    "#print(df)"
   ]
  },
  {
   "cell_type": "code",
   "execution_count": 393,
   "metadata": {
    "executionInfo": {
     "elapsed": 526,
     "status": "ok",
     "timestamp": 1610631307510,
     "user": {
      "displayName": "Saeed Akbari Shandiz",
      "photoUrl": "https://lh3.googleusercontent.com/a-/AOh14Gj_ltTfyzFcj-EidKK-RDh3G-RSeGnX-lq1mmA5=s64",
      "userId": "18254360833802486461"
     },
     "user_tz": 300
    },
    "id": "yxtd1mJdeNie"
   },
   "outputs": [],
   "source": [
    "# to write the new atom list from data frame (pandas) to a file\n",
    "df_dihedrals2.to_csv(r'C:\\vmd\\delTol7\\dihedrals6.txt', header=None, index=None, sep=' ', mode='a')"
   ]
  },
  {
   "cell_type": "code",
   "execution_count": 219,
   "metadata": {
    "colab": {
     "base_uri": "https://localhost:8080/",
     "height": 424
    },
    "executionInfo": {
     "elapsed": 420,
     "status": "ok",
     "timestamp": 1607899889491,
     "user": {
      "displayName": "Saeed Akbari Shandiz",
      "photoUrl": "https://lh3.googleusercontent.com/a-/AOh14Gj_ltTfyzFcj-EidKK-RDh3G-RSeGnX-lq1mmA5=s64",
      "userId": "18254360833802486461"
     },
     "user_tz": 300
    },
    "id": "KyaWfptUHz8X",
    "outputId": "a7fc233f-46f0-4f43-a9b2-94fe3970098b"
   },
   "outputs": [],
   "source": [
    "#df_dihedrals3 = df_dihedrals2\n",
    "#df_dihedrals3"
   ]
  }
 ],
 "metadata": {
  "colab": {
   "authorship_tag": "ABX9TyPxnyofWmzF4ASLqTClsBFh",
   "collapsed_sections": [],
   "name": " 10*7_peoRingTolDelTolThankGOD!.ipynb",
   "provenance": [
    {
     "file_id": "1Y2TCDWpTmMnzsFxTjC7LagIeqa5dEvUl",
     "timestamp": 1610627070219
    },
    {
     "file_id": "1omklzpJOCp61siA860BLyniG3Mqwhnv4",
     "timestamp": 1609949039527
    },
    {
     "file_id": "1t1CX5h13uBss1tYZTs-Tlkt9R3H2pqXs",
     "timestamp": 1607991458818
    },
    {
     "file_id": "1q96s5-zihHIcTKU8wL2fra-ZCocRmyGS",
     "timestamp": 1607617484173
    },
    {
     "file_id": "1dgrGBPbjyrSZg6sVnTibPiKW6cSKBt1k",
     "timestamp": 1607616661298
    },
    {
     "file_id": "1hnpp45msb97zON8vNkxLe0DNAt-3mCer",
     "timestamp": 1606773179834
    },
    {
     "file_id": "1KE-00UCp-p_d47rtXo8GO5az3MIDPanh",
     "timestamp": 1606756884763
    },
    {
     "file_id": "1bU2BmxAuuBgmSrUe3lp4fVlVEHpLYT2Q",
     "timestamp": 1606262318433
    },
    {
     "file_id": "1HDgoDmTxHdR2kR8o2td6FzG5yD40cKSp",
     "timestamp": 1601475518328
    },
    {
     "file_id": "1UieiDGMfQauK2aBRdjDxboVhZSiaX8sl",
     "timestamp": 1600536761078
    },
    {
     "file_id": "17KCClRej3a4-OD4Cg9U2XSx4kvWjoWkk",
     "timestamp": 1600381257538
    },
    {
     "file_id": "1S-oclbL2it4WP1IM1QpOAb1LGSgX748S",
     "timestamp": 1600186671563
    },
    {
     "file_id": "1hbJhDksLTPbUD3Q44zrjo3pZT348LQah",
     "timestamp": 1600122587064
    },
    {
     "file_id": "1MqwS2Es_nDF_E0Ith2m8HIItDH41gFZ3",
     "timestamp": 1600118428578
    }
   ]
  },
  "kernelspec": {
   "display_name": "Python 3",
   "language": "python",
   "name": "python3"
  },
  "language_info": {
   "codemirror_mode": {
    "name": "ipython",
    "version": 3
   },
   "file_extension": ".py",
   "mimetype": "text/x-python",
   "name": "python",
   "nbconvert_exporter": "python",
   "pygments_lexer": "ipython3",
   "version": "3.8.8"
  }
 },
 "nbformat": 4,
 "nbformat_minor": 1
}
